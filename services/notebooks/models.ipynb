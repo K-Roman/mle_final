{
 "cells": [
  {
   "cell_type": "code",
   "execution_count": 1,
   "id": "929b7c97",
   "metadata": {},
   "outputs": [],
   "source": [
    "import matplotlib.pyplot as plt\n",
    "import numpy as np\n",
    "import pandas as pd\n",
    "import gc\n",
    "\n",
    "from sklearn.metrics import accuracy_score\n",
    "\n",
    "import os\n",
    "from dotenv import load_dotenv\n",
    "import boto3\n",
    "import mlflow\n",
    "from io import BytesIO\n",
    "\n",
    "from tqdm import tqdm\n",
    "tqdm.pandas()"
   ]
  },
  {
   "cell_type": "code",
   "execution_count": 2,
   "id": "392fcb33",
   "metadata": {},
   "outputs": [],
   "source": [
    "import warnings  \n",
    "warnings.filterwarnings('ignore') "
   ]
  },
  {
   "cell_type": "markdown",
   "id": "0b67e1f9",
   "metadata": {},
   "source": [
    "### Доступы"
   ]
  },
  {
   "cell_type": "code",
   "execution_count": 3,
   "metadata": {},
   "outputs": [],
   "source": [
    "# Загружаем переменные из .env файла\n",
    "load_dotenv('/home/mle-user/mle_final/mle_final/.env')  # укажите полный путь\n",
    "\n",
    "# Теперь переменные доступны через os.getenv()\n",
    "DB_SOURCE_HOST = os.getenv('DB_SOURCE_HOST')\n",
    "DB_SOURCE_PORT = os.getenv('DB_SOURCE_PORT')\n",
    "DB_SOURCE_NAME = os.getenv('DB_SOURCE_NAME')\n",
    "DB_SOURCE_USER = os.getenv('DB_SOURCE_USER')\n",
    "DB_SOURCE_PASSWORD = os.getenv('DB_SOURCE_PASSWORD')\n",
    "\n",
    "DB_DESTINATION_HOST = os.getenv('DB_DESTINATION_HOST')\n",
    "DB_DESTINATION_PORT = os.getenv('DB_DESTINATION_PORT')\n",
    "DB_DESTINATION_USER = os.getenv('DB_DESTINATION_USER')\n",
    "DB_DESTINATION_PASSWORD = os.getenv('DB_DESTINATION_PASSWORD')\n",
    "DB_DESTINATION_NAME = os.getenv('DB_DESTINATION_NAME')\n",
    "\n",
    "S3_BUCKET_NAME = os.getenv('S3_BUCKET_NAME')\n",
    "AWS_ACCESS_KEY_ID = os.getenv('AWS_ACCESS_KEY_ID')\n",
    "AWS_SECRET_ACCESS_KEY = os.getenv('AWS_SECRET_ACCESS_KEY')\n",
    "\n",
    "\n",
    "TRACKING_SERVER_HOST = \"127.0.0.1\"\n",
    "TRACKING_SERVER_PORT = 5000"
   ]
  },
  {
   "cell_type": "markdown",
   "id": "3c746c2b",
   "metadata": {},
   "source": [
    "### MLFlow"
   ]
  },
  {
   "cell_type": "code",
   "execution_count": 4,
   "id": "b51b4193",
   "metadata": {},
   "outputs": [],
   "source": [
    "TRACKING_SERVER_HOST = \"127.0.0.1\"\n",
    "TRACKING_SERVER_PORT = 5000\n",
    "\n",
    "os.environ[\"MLFLOW_S3_ENDPOINT_URL\"] = \"https://storage.yandexcloud.net\" \n",
    "os.environ['AWS_ACCESS_KEY_ID'] = os.getenv(\"AWS_ACCESS_KEY_ID\")\n",
    "os.environ['AWS_SECRET_ACCESS_KEY'] = os.getenv(\"AWS_SECRET_ACCESS_KEY\")\n",
    "\n",
    "mlflow.set_tracking_uri(f\"http://{TRACKING_SERVER_HOST}:{TRACKING_SERVER_PORT}\")\n",
    "mlflow.set_registry_uri(f\"http://{TRACKING_SERVER_HOST}:{TRACKING_SERVER_PORT}\") "
   ]
  },
  {
   "cell_type": "code",
   "execution_count": 5,
   "id": "c1ba2977",
   "metadata": {},
   "outputs": [],
   "source": [
    "def save_file_s3(data_to_save, name):\n",
    "    s3 = boto3.client(\n",
    "    's3',\n",
    "    aws_access_key_id=AWS_ACCESS_KEY_ID,\n",
    "    aws_secret_access_key=AWS_SECRET_ACCESS_KEY,\n",
    "    endpoint_url='https://storage.yandexcloud.net',\n",
    "    )\n",
    "    data_to_save.to_parquet(f'{name}.parquet')\n",
    "    s3.upload_file(f'{name}.parquet', S3_BUCKET_NAME, f'final_project/data/{name}.parquet')\n",
    "    print(f\"Файл загружен в Yandex S3\")"
   ]
  },
  {
   "cell_type": "code",
   "execution_count": 6,
   "id": "63b7a752",
   "metadata": {},
   "outputs": [],
   "source": [
    "def read_file_s3(file_name):\n",
    "    s3 = boto3.client(\n",
    "        's3',\n",
    "        aws_access_key_id=AWS_ACCESS_KEY_ID,\n",
    "        aws_secret_access_key=AWS_SECRET_ACCESS_KEY,\n",
    "        endpoint_url='https://storage.yandexcloud.net',\n",
    "    )\n",
    "    parquet_buffer = BytesIO()\n",
    "\n",
    "    s3.download_fileobj(S3_BUCKET_NAME, f'final_project/data/{file_name}.parquet', parquet_buffer)\n",
    "    parquet_buffer.seek(0)\n",
    "\n",
    "    # Читаем Parquet в DataFrame\n",
    "    df_temp = pd.read_parquet(parquet_buffer, engine='pyarrow')\n",
    "    \n",
    "    return df_temp"
   ]
  },
  {
   "cell_type": "markdown",
   "id": "d9881324",
   "metadata": {},
   "source": [
    "### Данные"
   ]
  },
  {
   "cell_type": "code",
   "execution_count": 7,
   "id": "96a454f3",
   "metadata": {},
   "outputs": [],
   "source": [
    "def down(df):\n",
    "  for column, dtype in zip(df.columns, df.dtypes):\n",
    "    dtype = str(dtype)\n",
    "    # column_data = df[column]\n",
    "    if any([_ in dtype for _ in ('int', 'float')]):\n",
    "      column_min, column_max = df[column].min(), df[column].max()\n",
    "      if 'int' in dtype:\n",
    "        # if (column_min > np.iinfo(np.int8).min) and (column_max < np.iinfo(np.int8).max):\n",
    "        #   df[column] = df[column].astype(np.int8)\n",
    "        if (column_min > np.iinfo(np.int16).min) and (column_max < np.iinfo(np.int16).max):\n",
    "          df[column] = df[column].astype(np.int16)\n",
    "        elif (column_min > np.iinfo(np.int32).min) and (column_max < np.iinfo(np.int32).max):\n",
    "          df[column] = df[column].astype(np.int32)\n",
    "        else:\n",
    "          df[column] = df[column].astype(np.int64)\n",
    "\n",
    "      else:\n",
    "        # if (column_min > np.finfo(np.float16).min) and (column_max < np.finfo(np.float16).max):\n",
    "        #   df[column] = df[column].astype(np.float16)\n",
    "        if (column_min > np.finfo(np.float32).min) and (column_max < np.finfo(np.float32).max):\n",
    "          df[column] = df[column].astype(np.float32)\n",
    "        else:\n",
    "          df[column] = df[column].astype(np.float64)\n",
    "\n",
    "    # elif dtype == 'object':\n",
    "    #   df[column] = df[column].astype('category')\n",
    "\n",
    "  return df"
   ]
  },
  {
   "cell_type": "code",
   "execution_count": 8,
   "id": "fc574810",
   "metadata": {},
   "outputs": [],
   "source": [
    "def correct_df(df):\n",
    "    df['age'] = df['age'].apply(lambda x: x.strip() if isinstance(x, str) else x)\n",
    "    df['age'] = df['age'].replace('NA', np.nan)\n",
    "    df['age'] = df['age'].astype(float)\n",
    "\n",
    "    df['fecha_alta'] = pd.to_datetime(df['fecha_alta'])\n",
    "\n",
    "\n",
    "    df['antiguedad'] = df['antiguedad'].apply(lambda x: x.strip() if isinstance(x, str) else x)\n",
    "    df['antiguedad'] = df['antiguedad'].replace('NA', np.nan)\n",
    "    df['antiguedad'] = df['antiguedad'].astype(float)\n",
    "    df.loc[df['antiguedad']==-999999, 'antiguedad'] = np.nan\n",
    "\n",
    "    df['indrel_1mes'] = df['indrel_1mes'].replace('P', 99)\n",
    "    df['indrel_1mes'] = df['indrel_1mes'].astype('float')\n",
    "\n",
    "    df['fecha_dato'] = pd.to_datetime(df['fecha_dato'])\n",
    "    df['ult_fec_cli_1t'] = pd.to_datetime(df['ult_fec_cli_1t'])\n",
    "\n",
    "    # удалим признаки где более 99% заполнено одним значением\n",
    "    cols_to_del = ['ind_empleado', 'pais_residencia', 'indrel_1mes', 'indresi', 'conyuemp', 'indfall', 'tipodom']\n",
    "    df = df.drop(cols_to_del, axis=1)\n",
    "\n",
    "    return df"
   ]
  },
  {
   "cell_type": "code",
   "execution_count": 9,
   "id": "60a83116",
   "metadata": {},
   "outputs": [
    {
     "name": "stdout",
     "output_type": "stream",
     "text": [
      "Файл загружен из S3\n"
     ]
    },
    {
     "data": {
      "text/plain": [
       "2376"
      ]
     },
     "execution_count": 9,
     "metadata": {},
     "output_type": "execute_result"
    }
   ],
   "source": [
    "try:\n",
    "    df = read_file_s3('df_clean')\n",
    "    print('Файл загружен из S3')\n",
    "except:\n",
    "    df = pd.read_csv('/home/mle-user/mle_final/mle_final/data/train_ver2.csv.zip')\n",
    "    df = correct_df(df)\n",
    "    df = down(df)\n",
    "    save_file_s3(df, 'df_clean')\n",
    "\n",
    "gc.collect()"
   ]
  },
  {
   "cell_type": "markdown",
   "id": "fae4557d",
   "metadata": {},
   "source": [
    "### Модель"
   ]
  },
  {
   "cell_type": "markdown",
   "id": "0f3db901",
   "metadata": {},
   "source": [
    "#### Построение таргета, метрика\n",
    "\n",
    "Для обучения в качестве таргета возьмем факт приобретения продукта.\n",
    "\n",
    "Метрика - accuracy.\n",
    "\n",
    "Тренировочные данные - предпоследний месяц.\n",
    "\n",
    "Валидация - последний месяц."
   ]
  },
  {
   "cell_type": "code",
   "execution_count": 10,
   "id": "9b998503",
   "metadata": {},
   "outputs": [],
   "source": [
    "# продукты\n",
    "target_cols = ['ind_ahor_fin_ult1', 'ind_aval_fin_ult1', 'ind_cco_fin_ult1',\n",
    "       'ind_cder_fin_ult1', 'ind_cno_fin_ult1', 'ind_ctju_fin_ult1',\n",
    "       'ind_ctma_fin_ult1', 'ind_ctop_fin_ult1', 'ind_ctpp_fin_ult1',\n",
    "       'ind_deco_fin_ult1', 'ind_deme_fin_ult1', 'ind_dela_fin_ult1',\n",
    "       'ind_ecue_fin_ult1', 'ind_fond_fin_ult1', 'ind_hip_fin_ult1',\n",
    "       'ind_plan_fin_ult1', 'ind_pres_fin_ult1', 'ind_reca_fin_ult1',\n",
    "       'ind_tjcr_fin_ult1', 'ind_valo_fin_ult1', 'ind_viv_fin_ult1',\n",
    "       'ind_nomina_ult1', 'ind_nom_pens_ult1', 'ind_recibo_ult1']"
   ]
  },
  {
   "cell_type": "code",
   "execution_count": 11,
   "id": "a1bdd86e",
   "metadata": {},
   "outputs": [],
   "source": [
    "cols = [i for i in df.columns if i not in target_cols]"
   ]
  },
  {
   "cell_type": "markdown",
   "id": "e38e4983",
   "metadata": {},
   "source": [
    "#### Подготовка обучающего датасета"
   ]
  },
  {
   "cell_type": "code",
   "execution_count": 12,
   "id": "8ff21665",
   "metadata": {},
   "outputs": [],
   "source": [
    "def target_generate(df):\n",
    "    # таргет\n",
    "    df_long = df.melt(\n",
    "        id_vars=['ncodpers', 'fecha_dato'],\n",
    "        value_vars=target_cols,\n",
    "        var_name='product_name',\n",
    "        value_name='is_connected'\n",
    "    )\n",
    "\n",
    "    # много данных, уберем непопулярные продукты\n",
    "    temp = df_long[df_long['is_connected']==1]['product_name'].value_counts(normalize=True).reset_index()\n",
    "    top_product = temp[temp['proportion']>0.01]['product_name'].to_list()\n",
    "\n",
    "    df_long = df_long[df_long['product_name'].isin(top_product)]\n",
    "\n",
    "    df_long = df_long[df_long['fecha_dato']>='2016-04-01']\n",
    "    df = df[df['fecha_dato']>='2016-04-01']\n",
    "    majority_class = df_long[df_long['is_connected'] == 0]\n",
    "    minority_class = df_long[df_long['is_connected'] == 1]\n",
    "\n",
    "    # Для каждого id оставляем только 30% записей с таргетом 0\n",
    "    sampled_majority = majority_class.groupby(['ncodpers', 'fecha_dato'], group_keys=False).sample(\n",
    "        frac=0.3, \n",
    "        random_state=42\n",
    "    )\n",
    "\n",
    "    df_long = pd.concat([sampled_majority, minority_class], ignore_index=True)\n",
    "    df = df_long.merge(df[cols], how='left', on=['ncodpers', 'fecha_dato'])\n",
    "    del df_long\n",
    "\n",
    "    return df\n"
   ]
  },
  {
   "cell_type": "code",
   "execution_count": 13,
   "id": "2c9cae3e",
   "metadata": {},
   "outputs": [
    {
     "name": "stdout",
     "output_type": "stream",
     "text": [
      "Файл загружен из S3\n"
     ]
    },
    {
     "data": {
      "text/plain": [
       "2562"
      ]
     },
     "execution_count": 13,
     "metadata": {},
     "output_type": "execute_result"
    }
   ],
   "source": [
    "try:\n",
    "    df = read_file_s3('df_target')\n",
    "    print('Файл загружен из S3')\n",
    "except:\n",
    "    df = target_generate(df)\n",
    "    save_file_s3(df, 'df_target')\n",
    "\n",
    "gc.collect()"
   ]
  },
  {
   "cell_type": "code",
   "execution_count": 14,
   "id": "aad324a8",
   "metadata": {},
   "outputs": [
    {
     "data": {
      "text/plain": [
       "(9278261, 19)"
      ]
     },
     "execution_count": 14,
     "metadata": {},
     "output_type": "execute_result"
    }
   ],
   "source": [
    "df.shape"
   ]
  },
  {
   "cell_type": "code",
   "execution_count": 15,
   "id": "95c3d8cf",
   "metadata": {},
   "outputs": [
    {
     "data": {
      "text/plain": [
       "is_connected\n",
       "0.0    0.74076\n",
       "1.0    0.25924\n",
       "Name: proportion, dtype: float64"
      ]
     },
     "execution_count": 15,
     "metadata": {},
     "output_type": "execute_result"
    }
   ],
   "source": [
    "df['is_connected'].value_counts(normalize=True)"
   ]
  },
  {
   "cell_type": "markdown",
   "id": "3fa8ab09",
   "metadata": {},
   "source": [
    "#### Базовая модель"
   ]
  },
  {
   "cell_type": "code",
   "execution_count": 16,
   "id": "551128e3",
   "metadata": {},
   "outputs": [],
   "source": [
    "for i in ['fecha_dato', 'ncodpers', 'fecha_alta',\n",
    "          'ult_fec_cli_1t']:\n",
    "    cols.remove(i)\n",
    "\n",
    "cols.append('product_name')"
   ]
  },
  {
   "cell_type": "code",
   "execution_count": 17,
   "id": "fed259ab",
   "metadata": {},
   "outputs": [
    {
     "data": {
      "text/html": [
       "<div>\n",
       "<style scoped>\n",
       "    .dataframe tbody tr th:only-of-type {\n",
       "        vertical-align: middle;\n",
       "    }\n",
       "\n",
       "    .dataframe tbody tr th {\n",
       "        vertical-align: top;\n",
       "    }\n",
       "\n",
       "    .dataframe thead th {\n",
       "        text-align: right;\n",
       "    }\n",
       "</style>\n",
       "<table border=\"1\" class=\"dataframe\">\n",
       "  <thead>\n",
       "    <tr style=\"text-align: right;\">\n",
       "      <th></th>\n",
       "      <th>ncodpers</th>\n",
       "      <th>fecha_dato</th>\n",
       "      <th>product_name</th>\n",
       "      <th>is_connected</th>\n",
       "      <th>sexo</th>\n",
       "      <th>age</th>\n",
       "      <th>fecha_alta</th>\n",
       "      <th>ind_nuevo</th>\n",
       "      <th>antiguedad</th>\n",
       "      <th>indrel</th>\n",
       "      <th>ult_fec_cli_1t</th>\n",
       "      <th>tiprel_1mes</th>\n",
       "      <th>indext</th>\n",
       "      <th>canal_entrada</th>\n",
       "      <th>cod_prov</th>\n",
       "      <th>nomprov</th>\n",
       "      <th>ind_actividad_cliente</th>\n",
       "      <th>renta</th>\n",
       "      <th>segmento</th>\n",
       "    </tr>\n",
       "  </thead>\n",
       "  <tbody>\n",
       "    <tr>\n",
       "      <th>0</th>\n",
       "      <td>15889</td>\n",
       "      <td>2016-04-28</td>\n",
       "      <td>ind_nom_pens_ult1</td>\n",
       "      <td>0.0</td>\n",
       "      <td>V</td>\n",
       "      <td>56.0</td>\n",
       "      <td>1995-01-16</td>\n",
       "      <td>0.0</td>\n",
       "      <td>254.0</td>\n",
       "      <td>1.0</td>\n",
       "      <td>None</td>\n",
       "      <td>A</td>\n",
       "      <td>N</td>\n",
       "      <td>KAT</td>\n",
       "      <td>28.0</td>\n",
       "      <td>MADRID</td>\n",
       "      <td>1.0</td>\n",
       "      <td>326124.90625</td>\n",
       "      <td>01 - TOP</td>\n",
       "    </tr>\n",
       "    <tr>\n",
       "      <th>1</th>\n",
       "      <td>15889</td>\n",
       "      <td>2016-04-28</td>\n",
       "      <td>ind_ctop_fin_ult1</td>\n",
       "      <td>0.0</td>\n",
       "      <td>V</td>\n",
       "      <td>56.0</td>\n",
       "      <td>1995-01-16</td>\n",
       "      <td>0.0</td>\n",
       "      <td>254.0</td>\n",
       "      <td>1.0</td>\n",
       "      <td>None</td>\n",
       "      <td>A</td>\n",
       "      <td>N</td>\n",
       "      <td>KAT</td>\n",
       "      <td>28.0</td>\n",
       "      <td>MADRID</td>\n",
       "      <td>1.0</td>\n",
       "      <td>326124.90625</td>\n",
       "      <td>01 - TOP</td>\n",
       "    </tr>\n",
       "    <tr>\n",
       "      <th>2</th>\n",
       "      <td>15889</td>\n",
       "      <td>2016-04-28</td>\n",
       "      <td>ind_reca_fin_ult1</td>\n",
       "      <td>0.0</td>\n",
       "      <td>V</td>\n",
       "      <td>56.0</td>\n",
       "      <td>1995-01-16</td>\n",
       "      <td>0.0</td>\n",
       "      <td>254.0</td>\n",
       "      <td>1.0</td>\n",
       "      <td>None</td>\n",
       "      <td>A</td>\n",
       "      <td>N</td>\n",
       "      <td>KAT</td>\n",
       "      <td>28.0</td>\n",
       "      <td>MADRID</td>\n",
       "      <td>1.0</td>\n",
       "      <td>326124.90625</td>\n",
       "      <td>01 - TOP</td>\n",
       "    </tr>\n",
       "    <tr>\n",
       "      <th>3</th>\n",
       "      <td>15889</td>\n",
       "      <td>2016-05-28</td>\n",
       "      <td>ind_cno_fin_ult1</td>\n",
       "      <td>0.0</td>\n",
       "      <td>V</td>\n",
       "      <td>56.0</td>\n",
       "      <td>1995-01-16</td>\n",
       "      <td>0.0</td>\n",
       "      <td>255.0</td>\n",
       "      <td>1.0</td>\n",
       "      <td>None</td>\n",
       "      <td>A</td>\n",
       "      <td>N</td>\n",
       "      <td>KAT</td>\n",
       "      <td>28.0</td>\n",
       "      <td>MADRID</td>\n",
       "      <td>1.0</td>\n",
       "      <td>326124.90625</td>\n",
       "      <td>01 - TOP</td>\n",
       "    </tr>\n",
       "    <tr>\n",
       "      <th>4</th>\n",
       "      <td>15889</td>\n",
       "      <td>2016-05-28</td>\n",
       "      <td>ind_ctop_fin_ult1</td>\n",
       "      <td>0.0</td>\n",
       "      <td>V</td>\n",
       "      <td>56.0</td>\n",
       "      <td>1995-01-16</td>\n",
       "      <td>0.0</td>\n",
       "      <td>255.0</td>\n",
       "      <td>1.0</td>\n",
       "      <td>None</td>\n",
       "      <td>A</td>\n",
       "      <td>N</td>\n",
       "      <td>KAT</td>\n",
       "      <td>28.0</td>\n",
       "      <td>MADRID</td>\n",
       "      <td>1.0</td>\n",
       "      <td>326124.90625</td>\n",
       "      <td>01 - TOP</td>\n",
       "    </tr>\n",
       "  </tbody>\n",
       "</table>\n",
       "</div>"
      ],
      "text/plain": [
       "   ncodpers fecha_dato       product_name  is_connected sexo   age fecha_alta  \\\n",
       "0     15889 2016-04-28  ind_nom_pens_ult1           0.0    V  56.0 1995-01-16   \n",
       "1     15889 2016-04-28  ind_ctop_fin_ult1           0.0    V  56.0 1995-01-16   \n",
       "2     15889 2016-04-28  ind_reca_fin_ult1           0.0    V  56.0 1995-01-16   \n",
       "3     15889 2016-05-28   ind_cno_fin_ult1           0.0    V  56.0 1995-01-16   \n",
       "4     15889 2016-05-28  ind_ctop_fin_ult1           0.0    V  56.0 1995-01-16   \n",
       "\n",
       "   ind_nuevo  antiguedad  indrel ult_fec_cli_1t tiprel_1mes indext  \\\n",
       "0        0.0       254.0     1.0           None           A      N   \n",
       "1        0.0       254.0     1.0           None           A      N   \n",
       "2        0.0       254.0     1.0           None           A      N   \n",
       "3        0.0       255.0     1.0           None           A      N   \n",
       "4        0.0       255.0     1.0           None           A      N   \n",
       "\n",
       "  canal_entrada  cod_prov nomprov  ind_actividad_cliente         renta  \\\n",
       "0           KAT      28.0  MADRID                    1.0  326124.90625   \n",
       "1           KAT      28.0  MADRID                    1.0  326124.90625   \n",
       "2           KAT      28.0  MADRID                    1.0  326124.90625   \n",
       "3           KAT      28.0  MADRID                    1.0  326124.90625   \n",
       "4           KAT      28.0  MADRID                    1.0  326124.90625   \n",
       "\n",
       "   segmento  \n",
       "0  01 - TOP  \n",
       "1  01 - TOP  \n",
       "2  01 - TOP  \n",
       "3  01 - TOP  \n",
       "4  01 - TOP  "
      ]
     },
     "execution_count": 17,
     "metadata": {},
     "output_type": "execute_result"
    }
   ],
   "source": [
    "df.head()"
   ]
  },
  {
   "cell_type": "code",
   "execution_count": 19,
   "id": "3ad94ed1",
   "metadata": {},
   "outputs": [],
   "source": [
    "mask = df['fecha_dato']=='2016-05-28'\n",
    "\n",
    "x_train = df[~mask].drop(['is_connected'], axis=1)\n",
    "y_train = df[~mask]['is_connected']\n",
    "\n",
    "x_test = df[mask].drop(['is_connected'], axis=1)\n",
    "y_test = df[mask]['is_connected']\n",
    "\n"
   ]
  },
  {
   "cell_type": "code",
   "execution_count": 20,
   "id": "6250de5f",
   "metadata": {},
   "outputs": [
    {
     "data": {
      "text/plain": [
       "0"
      ]
     },
     "execution_count": 20,
     "metadata": {},
     "output_type": "execute_result"
    }
   ],
   "source": [
    "gc.collect()"
   ]
  },
  {
   "cell_type": "markdown",
   "id": "6d078f90",
   "metadata": {},
   "source": [
    "### Модель классификации\n",
    "\n",
    "Возьмем логрег, катбуст долго обучается"
   ]
  },
  {
   "cell_type": "code",
   "execution_count": 25,
   "id": "1c1a9b18",
   "metadata": {},
   "outputs": [],
   "source": [
    "from catboost import CatBoostClassifier\n",
    "from sklearn.linear_model import LogisticRegression"
   ]
  },
  {
   "cell_type": "code",
   "execution_count": 18,
   "id": "a8cbc927",
   "metadata": {},
   "outputs": [],
   "source": [
    "cat_features = ['sexo',\n",
    " 'ind_nuevo',\n",
    " 'indrel',\n",
    " 'tiprel_1mes',\n",
    " 'indext',\n",
    " 'canal_entrada',\n",
    " 'cod_prov',\n",
    " 'nomprov',\n",
    " 'ind_actividad_cliente',\n",
    " 'segmento',\n",
    " 'product_name']"
   ]
  },
  {
   "cell_type": "code",
   "execution_count": 23,
   "id": "9798fe50",
   "metadata": {},
   "outputs": [],
   "source": [
    "for col in cat_features:\n",
    "    try:\n",
    "        x_train[col] = x_train[col].fillna(-99)\n",
    "        x_test[col] = x_test[col].fillna(-99)\n",
    "        x_train[col] = x_train[col].astype('int')\n",
    "        x_test[col] = x_test[col].astype('int')\n",
    "    except:\n",
    "        x_train[col] = x_train[col].fillna('non_type')\n",
    "        x_test[col] = x_test[col].fillna('non_type')\n",
    "\n",
    "        x_train[col] = x_train[col].astype('str')\n",
    "        x_test[col] = x_test[col].astype('str')"
   ]
  },
  {
   "cell_type": "code",
   "execution_count": 24,
   "id": "e4efdc01",
   "metadata": {},
   "outputs": [
    {
     "name": "stderr",
     "output_type": "stream",
     "text": [
      "100%|██████████| 11/11 [00:33<00:00,  3.09s/it]\n"
     ]
    }
   ],
   "source": [
    "from sklearn.preprocessing import TargetEncoder\n",
    "# закодируем заранее, так быстрее\n",
    "enc_auto = TargetEncoder(smooth=\"auto\")\n",
    "for col in tqdm(cat_features):\n",
    "    x_train[col] = enc_auto.fit_transform(x_train[[col]], y_train)\n",
    "    x_test[col] = enc_auto.transform(x_test[[col]])"
   ]
  },
  {
   "cell_type": "code",
   "execution_count": null,
   "id": "0762ace3",
   "metadata": {},
   "outputs": [],
   "source": [
    "# model_cat = CatBoostClassifier(random_state=13, \n",
    "#                              depth=6,\n",
    "#                              iterations=1500, \n",
    "#                              verbose=100, \n",
    "#                             #  cat_features=cat_features,\n",
    "#                              early_stopping_rounds=100,)\n",
    "\n",
    "# model_cat.fit(x_train[cols], y_train,\n",
    "#               eval_set = (x_test[cols], y_test)\n",
    "#               )\n",
    "# probs = model_cat.predict_proba(x_test[cols])"
   ]
  },
  {
   "cell_type": "code",
   "execution_count": 33,
   "id": "5313db12",
   "metadata": {},
   "outputs": [],
   "source": [
    "# importances = model_cat.feature_importances_\n",
    "# df_importances = pd.DataFrame(index=x_train[cols].columns, columns=['importance'], data=importances)\n",
    "\n",
    "# df_importances.sort_values(by='importance',ascending=False).head(50)"
   ]
  },
  {
   "cell_type": "code",
   "execution_count": null,
   "id": "48724780",
   "metadata": {},
   "outputs": [],
   "source": [
    "# res = x_test[['ncodpers']]\n",
    "# res['target'] = y_test\n",
    "# res['preds'] = probs[:,1]"
   ]
  },
  {
   "cell_type": "code",
   "execution_count": 14,
   "id": "718e30aa",
   "metadata": {},
   "outputs": [
    {
     "data": {
      "text/plain": [
       "0"
      ]
     },
     "execution_count": 14,
     "metadata": {},
     "output_type": "execute_result"
    }
   ],
   "source": [
    "gc.collect()"
   ]
  },
  {
   "cell_type": "code",
   "execution_count": 26,
   "id": "ec1ef2c7",
   "metadata": {},
   "outputs": [],
   "source": [
    "x_train[cols] = x_train[cols].fillna(0)\n",
    "x_test[cols] = x_test[cols].fillna(0)\n",
    "\n",
    "clf = LogisticRegression(random_state=0).fit(x_train[cols], y_train,)\n",
    "probs = clf.predict_proba(x_test[cols])"
   ]
  },
  {
   "cell_type": "code",
   "execution_count": 27,
   "id": "26c23b23",
   "metadata": {},
   "outputs": [],
   "source": [
    "res = x_test[['ncodpers']]\n",
    "res['target'] = y_test\n",
    "res['preds'] = probs[:,1]"
   ]
  },
  {
   "cell_type": "code",
   "execution_count": 42,
   "id": "c6f46320",
   "metadata": {},
   "outputs": [
    {
     "data": {
      "text/plain": [
       "0.839405249090509"
      ]
     },
     "execution_count": 42,
     "metadata": {},
     "output_type": "execute_result"
    }
   ],
   "source": [
    "accuracy_score(res['target'], res['preds']>0.5)"
   ]
  },
  {
   "cell_type": "code",
   "execution_count": 29,
   "id": "88e761b8",
   "metadata": {},
   "outputs": [
    {
     "data": {
      "text/plain": [
       "28"
      ]
     },
     "execution_count": 29,
     "metadata": {},
     "output_type": "execute_result"
    }
   ],
   "source": [
    "gc.collect()"
   ]
  },
  {
   "cell_type": "markdown",
   "id": "f449e0c1",
   "metadata": {},
   "source": [
    "#### Логирование"
   ]
  },
  {
   "cell_type": "code",
   "execution_count": 33,
   "id": "71910517",
   "metadata": {},
   "outputs": [],
   "source": [
    "EXPERIMENT_NAME = 'mle_final_project'\n",
    "RUN_NAME = 'model_1'\n",
    "REGISTRY_MODEL_NAME = 'model_base'"
   ]
  },
  {
   "cell_type": "code",
   "execution_count": null,
   "id": "d9a54bcd",
   "metadata": {},
   "outputs": [],
   "source": [
    "metrics = {}\n",
    "metrics['accuracy_test'] = accuracy_score(res['target'], res['preds']>0.5)"
   ]
  },
  {
   "cell_type": "code",
   "execution_count": 37,
   "id": "d1bd556b",
   "metadata": {},
   "outputs": [],
   "source": [
    "try:\n",
    "    experiment_id = mlflow.create_experiment(EXPERIMENT_NAME)\n",
    "except:\n",
    "    experiment_id = mlflow.get_experiment_by_name(EXPERIMENT_NAME).experiment_id"
   ]
  },
  {
   "cell_type": "code",
   "execution_count": null,
   "id": "f60d914f",
   "metadata": {},
   "outputs": [
    {
     "name": "stderr",
     "output_type": "stream",
     "text": [
      "Successfully registered model 'model_base'.\n",
      "2025/10/13 20:42:20 INFO mlflow.tracking._model_registry.client: Waiting up to 60 seconds for model version to finish creation. Model name: model_base, version 1\n",
      "Created version '1' of model 'model_base'.\n"
     ]
    }
   ],
   "source": [
    "pip_requirements = os.path.abspath(\"/home/mle-user/mle_final/requirements.txt\")\n",
    "signature = mlflow.models.infer_signature(x_test[cols], probs[:,1])\n",
    "input_example = x_test[cols][:10]\n",
    "\n",
    "with mlflow.start_run(run_name=RUN_NAME, experiment_id=experiment_id) as run:\n",
    "    run_id = run.info.run_id\n",
    "\n",
    "    mlflow.log_params(clf.get_params())\n",
    "    # метрики\n",
    "    mlflow.log_metrics(metrics)\n",
    "\n",
    "    # ваш код здесь\n",
    "    model_info = mlflow.sklearn.log_model( \n",
    "\t\t\tsk_model=clf,\n",
    "            artifact_path=\"models\",\n",
    "        registered_model_name=REGISTRY_MODEL_NAME,\n",
    "        signature = signature,\n",
    "        input_example=input_example,\n",
    "        await_registration_for=60,\n",
    "        pip_requirements=pip_requirements)"
   ]
  },
  {
   "cell_type": "code",
   "execution_count": null,
   "id": "44f9a851",
   "metadata": {},
   "outputs": [],
   "source": []
  },
  {
   "cell_type": "markdown",
   "id": "99a2373e",
   "metadata": {},
   "source": [
    "## Генерация признаков"
   ]
  },
  {
   "cell_type": "code",
   "execution_count": 58,
   "id": "66dc7450",
   "metadata": {},
   "outputs": [
    {
     "name": "stdout",
     "output_type": "stream",
     "text": [
      "Файл загружен из S3\n"
     ]
    },
    {
     "data": {
      "text/plain": [
       "6610"
      ]
     },
     "execution_count": 58,
     "metadata": {},
     "output_type": "execute_result"
    }
   ],
   "source": [
    "try:\n",
    "    df = read_file_s3('df_clean')\n",
    "    print('Файл загружен из S3')\n",
    "except:\n",
    "    df = pd.read_csv('/home/mle-user/mle_final/mle_final/data/train_ver2.csv.zip')\n",
    "    df = correct_df(df)\n",
    "    df = down(df)\n",
    "    save_file_s3(df, 'df_clean')\n",
    "\n",
    "gc.collect()"
   ]
  },
  {
   "cell_type": "code",
   "execution_count": null,
   "id": "75eaa406",
   "metadata": {},
   "outputs": [],
   "source": [
    "df_long = df.melt(\n",
    "    id_vars=['ncodpers', 'fecha_dato'],\n",
    "    value_vars=target_cols,\n",
    "    var_name='product_name',\n",
    "    value_name='is_connected'\n",
    ")\n",
    "\n",
    "df_long = df_long[df_long['fecha_dato']>='2015-05-28']\n",
    "gc.collect()"
   ]
  },
  {
   "cell_type": "code",
   "execution_count": 25,
   "id": "78c1c217",
   "metadata": {},
   "outputs": [
    {
     "name": "stdout",
     "output_type": "stream",
     "text": [
      "Файл загружен в Yandex S3\n"
     ]
    },
    {
     "data": {
      "text/plain": [
       "5584"
      ]
     },
     "execution_count": 25,
     "metadata": {},
     "output_type": "execute_result"
    }
   ],
   "source": [
    "\n",
    "df_long['cumsum_id_product'] = df_long.groupby(['ncodpers', 'product_name'])['is_connected'].cumsum()\n",
    "df_long['cumsum_id_product'] = df_long.groupby(['ncodpers', 'product_name'])['cumsum_id_product'].shift()\n",
    "df_long_cumsum = df_long[df_long['fecha_dato']>='2016-03-01']\n",
    "del df_long\n",
    "df_long_cumsum['cumsum_id_product'] = df_long_cumsum['cumsum_id_product'].fillna(0)\n",
    "save_file_s3(df_long_cumsum[['ncodpers','fecha_dato','product_name', 'cumsum_id_product']], 'df_long_cumsum')\n",
    "\n",
    "gc.collect()"
   ]
  },
  {
   "cell_type": "code",
   "execution_count": 72,
   "id": "5b1e0559",
   "metadata": {},
   "outputs": [],
   "source": [
    "df['ult_fec_cli_1t'] = pd.to_datetime(df['ult_fec_cli_1t'])"
   ]
  },
  {
   "cell_type": "code",
   "execution_count": null,
   "id": "b3ef38f2",
   "metadata": {},
   "outputs": [
    {
     "name": "stdout",
     "output_type": "stream",
     "text": [
      "Файл загружен в Yandex S3\n"
     ]
    },
    {
     "data": {
      "text/plain": [
       "3506"
      ]
     },
     "execution_count": 27,
     "metadata": {},
     "output_type": "execute_result"
    }
   ],
   "source": [
    "\n",
    "mask = ~df['ult_fec_cli_1t'].isna()\n",
    "df.loc[mask, 'period_prem'] = (df.loc[mask, 'fecha_dato'] - df.loc[mask, 'ult_fec_cli_1t']).dt.days\n",
    "\n",
    "df['period_prem'] = df['period_prem'].fillna(-1)\n",
    "df.loc[df['period_prem']<0, 'period_prem'] = -1\n",
    "\n",
    "df_period = df[df['fecha_dato']>='2016-01-01']\n",
    "\n",
    "save_file_s3(df_period[['ncodpers', 'fecha_dato', 'period_prem']], 'df_period')\n",
    "\n",
    "gc.collect()"
   ]
  },
  {
   "cell_type": "markdown",
   "id": "fa3b1889",
   "metadata": {},
   "source": [
    "#### Модель 2"
   ]
  },
  {
   "cell_type": "code",
   "execution_count": 19,
   "id": "4ce380b0",
   "metadata": {},
   "outputs": [],
   "source": [
    "df = read_file_s3('df_target')"
   ]
  },
  {
   "cell_type": "code",
   "execution_count": 20,
   "id": "1a381889",
   "metadata": {},
   "outputs": [
    {
     "data": {
      "text/plain": [
       "4064"
      ]
     },
     "execution_count": 20,
     "metadata": {},
     "output_type": "execute_result"
    }
   ],
   "source": [
    "df_period = read_file_s3('df_period')\n",
    "\n",
    "df = df.merge(df_period, how='left', on=['ncodpers', 'fecha_dato'])\n",
    "cols.append('period_prem')\n",
    "\n",
    "del df_period\n",
    "gc.collect()"
   ]
  },
  {
   "cell_type": "code",
   "execution_count": 21,
   "id": "bca1efd5",
   "metadata": {},
   "outputs": [
    {
     "data": {
      "text/plain": [
       "5235"
      ]
     },
     "execution_count": 21,
     "metadata": {},
     "output_type": "execute_result"
    }
   ],
   "source": [
    "df_long_cumsum = read_file_s3('df_long_cumsum')\n",
    "\n",
    "df = df.merge(df_long_cumsum, how='left', on=['ncodpers','fecha_dato','product_name'])\n",
    "cols.append('cumsum_id_product')\n",
    "\n",
    "del df_long_cumsum\n",
    "gc.collect()"
   ]
  },
  {
   "cell_type": "code",
   "execution_count": 22,
   "id": "77335efe",
   "metadata": {},
   "outputs": [],
   "source": [
    "mask = df['fecha_dato']=='2016-05-28'\n",
    "\n",
    "x_train = df[~mask].drop(['is_connected'], axis=1)\n",
    "y_train = df[~mask]['is_connected']\n",
    "\n",
    "x_test = df[mask].drop(['is_connected'], axis=1)\n",
    "y_test = df[mask]['is_connected']"
   ]
  },
  {
   "cell_type": "code",
   "execution_count": 23,
   "id": "ecd3945b",
   "metadata": {},
   "outputs": [
    {
     "name": "stderr",
     "output_type": "stream",
     "text": [
      "100%|██████████| 11/11 [00:33<00:00,  3.04s/it]\n"
     ]
    }
   ],
   "source": [
    "dict_encoders = {}\n",
    "for col in cat_features:\n",
    "    try:\n",
    "        x_train[col] = x_train[col].fillna(-99)\n",
    "        x_test[col] = x_test[col].fillna(-99)\n",
    "        x_train[col] = x_train[col].astype('int')\n",
    "        x_test[col] = x_test[col].astype('int')\n",
    "    except:\n",
    "        x_train[col] = x_train[col].fillna('non_type')\n",
    "        x_test[col] = x_test[col].fillna('non_type')\n",
    "\n",
    "        x_train[col] = x_train[col].astype('str')\n",
    "        x_test[col] = x_test[col].astype('str')\n",
    "\n",
    "from sklearn.preprocessing import TargetEncoder\n",
    "# закодируем заранее, так быстрее\n",
    "for col in tqdm(cat_features):\n",
    "    enc_auto = TargetEncoder(smooth=\"auto\")\n",
    "    x_train[col] = enc_auto.fit_transform(x_train[[col]], y_train)\n",
    "    x_test[col] = enc_auto.transform(x_test[[col]])\n",
    "\n",
    "    dict_encoders[col] = enc_auto"
   ]
  },
  {
   "cell_type": "code",
   "execution_count": 34,
   "id": "fe5c21de",
   "metadata": {},
   "outputs": [],
   "source": [
    "# model_cat = CatBoostClassifier(random_state=13, \n",
    "#                              depth=6,\n",
    "#                              iterations=1500, \n",
    "#                              verbose=100, \n",
    "#                             #  cat_features=cat_features,\n",
    "#                              early_stopping_rounds=100,)\n",
    "# model_cat.fit(x_train[cols], y_train,\n",
    "#               eval_set = (x_test[cols], y_test)\n",
    "#               )\n",
    "# probs = model_cat.predict_proba(x_test[cols])"
   ]
  },
  {
   "cell_type": "code",
   "execution_count": 26,
   "id": "8ab3cdb7",
   "metadata": {},
   "outputs": [],
   "source": [
    "x_train[cols] = x_train[cols].fillna(0)\n",
    "x_test[cols] = x_test[cols].fillna(0)\n",
    "\n",
    "clf = LogisticRegression(random_state=0).fit(x_train[cols], y_train,)\n",
    "probs = clf.predict_proba(x_test[cols])"
   ]
  },
  {
   "cell_type": "code",
   "execution_count": 27,
   "id": "5c6cd162",
   "metadata": {},
   "outputs": [],
   "source": [
    "res = x_test[['ncodpers']]\n",
    "res['target'] = y_test\n",
    "res['preds'] = probs[:,1]"
   ]
  },
  {
   "cell_type": "code",
   "execution_count": 28,
   "id": "5b0927bd",
   "metadata": {},
   "outputs": [
    {
     "data": {
      "text/plain": [
       "0.9792847524133866"
      ]
     },
     "execution_count": 28,
     "metadata": {},
     "output_type": "execute_result"
    }
   ],
   "source": [
    "from sklearn.metrics import accuracy_score\n",
    "\n",
    "accuracy_score(res['target'], res['preds']>0.5)"
   ]
  },
  {
   "cell_type": "code",
   "execution_count": 29,
   "id": "75360f5a",
   "metadata": {},
   "outputs": [
    {
     "data": {
      "image/png": "[encoded data removed]",
      "text/plain": [
       "<Figure size 1000x800 with 2 Axes>"
      ]
     },
     "metadata": {},
     "output_type": "display_data"
    }
   ],
   "source": [
    "def plot_coefficient_importance(model, feature_names, top_n=10):\n",
    "    \"\"\"\n",
    "    Визуализация важности признаков через коэффициенты модели\n",
    "    \"\"\"\n",
    "    # Получаем коэффициенты\n",
    "    coefficients = model.coef_[0]\n",
    "    \n",
    "    # Создаем DataFrame для удобства\n",
    "    feature_importance = pd.DataFrame({\n",
    "        'feature': feature_names,\n",
    "        'coefficient': coefficients,\n",
    "        'abs_coefficient': np.abs(coefficients)\n",
    "    })\n",
    "    \n",
    "    # Сортируем по абсолютному значению\n",
    "    feature_importance = feature_importance.sort_values('abs_coefficient', ascending=False)\n",
    "    \n",
    "    # Визуализация\n",
    "    plt.figure(figsize=(10, 8))\n",
    "    \n",
    "    # График коэффициентов\n",
    "    plt.subplot(2, 1, 1)\n",
    "    colors = ['red' if x < 0 else 'blue' for x in feature_importance['coefficient'].head(top_n)]\n",
    "    plt.barh(range(top_n), feature_importance['coefficient'].head(top_n), color=colors)\n",
    "    plt.yticks(range(top_n), feature_importance['feature'].head(top_n))\n",
    "    plt.title('Коэффициенты логистической регрессии')\n",
    "    plt.xlabel('Значение коэффициента')\n",
    "    plt.gca().invert_yaxis()\n",
    "    \n",
    "    # График абсолютных значений\n",
    "    plt.subplot(2, 1, 2)\n",
    "    plt.barh(range(top_n), feature_importance['abs_coefficient'].head(top_n), color='green', alpha=0.7)\n",
    "    plt.yticks(range(top_n), feature_importance['feature'].head(top_n))\n",
    "    plt.title('Абсолютные значения коэффициентов (важность)')\n",
    "    plt.xlabel('Абсолютное значение коэффициента')\n",
    "    plt.gca().invert_yaxis()\n",
    "    \n",
    "    plt.tight_layout()\n",
    "    plt.show()\n",
    "    \n",
    "    return feature_importance\n",
    "\n",
    "# Использование\n",
    "feature_importance_df = plot_coefficient_importance(clf, x_train[cols].columns.tolist())"
   ]
  },
  {
   "cell_type": "code",
   "execution_count": null,
   "id": "60064168",
   "metadata": {},
   "outputs": [],
   "source": [
    "with open('/home/mle-user/mle_final/mle_final/models/logreg_model.pkl', 'wb') as f:  # 'wb' - write binary\n",
    "    pickle.dump(clf, f)"
   ]
  },
  {
   "cell_type": "code",
   "execution_count": null,
   "id": "8fa3e1a3",
   "metadata": {},
   "outputs": [],
   "source": []
  },
  {
   "cell_type": "code",
   "execution_count": null,
   "id": "b0346d77",
   "metadata": {},
   "outputs": [],
   "source": []
  },
  {
   "cell_type": "code",
   "execution_count": null,
   "id": "96d88899",
   "metadata": {},
   "outputs": [],
   "source": []
  },
  {
   "cell_type": "markdown",
   "id": "2c20342c",
   "metadata": {},
   "source": [
    "#### Логирование"
   ]
  },
  {
   "cell_type": "code",
   "execution_count": 34,
   "id": "1a43310a",
   "metadata": {},
   "outputs": [],
   "source": [
    "RUN_NAME = 'model_2'\n",
    "REGISTRY_MODEL_NAME = 'model_new_features'"
   ]
  },
  {
   "cell_type": "code",
   "execution_count": 31,
   "id": "16971bd3",
   "metadata": {},
   "outputs": [],
   "source": [
    "metrics = {}\n",
    "metrics['accuracy_test'] = accuracy_score(res['target'], res['preds']>0.5)"
   ]
  },
  {
   "cell_type": "code",
   "execution_count": 35,
   "id": "eafe0bc0",
   "metadata": {},
   "outputs": [],
   "source": [
    "experiment_id = mlflow.get_experiment_by_name(EXPERIMENT_NAME).experiment_id"
   ]
  },
  {
   "cell_type": "code",
   "execution_count": 36,
   "id": "f80839bb",
   "metadata": {},
   "outputs": [
    {
     "name": "stderr",
     "output_type": "stream",
     "text": [
      "Successfully registered model 'model_new_features'.\n",
      "2025/10/13 20:56:35 INFO mlflow.tracking._model_registry.client: Waiting up to 60 seconds for model version to finish creation. Model name: model_new_features, version 1\n",
      "Created version '1' of model 'model_new_features'.\n"
     ]
    }
   ],
   "source": [
    "pip_requirements = os.path.abspath(\"/home/mle-user/mle_final/requirements.txt\")\n",
    "signature = mlflow.models.infer_signature(x_test[cols], probs[:,1])\n",
    "input_example = x_test[cols][:10]\n",
    "\n",
    "with mlflow.start_run(run_name=RUN_NAME, experiment_id=experiment_id) as run:\n",
    "    run_id = run.info.run_id\n",
    "\n",
    "    mlflow.log_params(clf.get_params())\n",
    "    # метрики\n",
    "    mlflow.log_metrics(metrics)\n",
    "\n",
    "    # ваш код здесь\n",
    "    model_info = mlflow.sklearn.log_model( \n",
    "\t\t\tsk_model=clf,\n",
    "            artifact_path=\"models\",\n",
    "        registered_model_name=REGISTRY_MODEL_NAME,\n",
    "        signature = signature,\n",
    "        input_example=input_example,\n",
    "        await_registration_for=60,\n",
    "        pip_requirements=pip_requirements)"
   ]
  },
  {
   "cell_type": "code",
   "execution_count": null,
   "id": "aaad514e",
   "metadata": {},
   "outputs": [],
   "source": []
  },
  {
   "cell_type": "code",
   "execution_count": null,
   "id": "fda895f2",
   "metadata": {},
   "outputs": [],
   "source": []
  }
 ],
 "metadata": {
  "kernelspec": {
   "display_name": "final_kernel",
   "language": "python",
   "name": "final_kernel"
  },
  "language_info": {
   "codemirror_mode": {
    "name": "ipython",
    "version": 3
   },
   "file_extension": ".py",
   "mimetype": "text/x-python",
   "name": "python",
   "nbconvert_exporter": "python",
   "pygments_lexer": "ipython3",
   "version": "3.10.12"
  }
 },
 "nbformat": 4,
 "nbformat_minor": 5
}
