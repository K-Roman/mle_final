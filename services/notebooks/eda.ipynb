{
 "cells": [
  {
   "cell_type": "code",
   "execution_count": 1,
   "id": "56321221",
   "metadata": {},
   "outputs": [],
   "source": [
    "import numpy as np\n",
    "import pandas as pd\n",
    "import matplotlib.pyplot as plt\n",
    "import seaborn as sns\n",
    "import gc"
   ]
  },
  {
   "cell_type": "code",
   "execution_count": 2,
   "id": "47392304",
   "metadata": {},
   "outputs": [],
   "source": [
    "import warnings  \n",
    "warnings.filterwarnings('ignore') "
   ]
  },
  {
   "cell_type": "code",
   "execution_count": 3,
   "id": "cce2ba97",
   "metadata": {},
   "outputs": [],
   "source": [
    "df = pd.read_csv('/home/mle-user/mle_final/mle_final/data/train_ver2.csv.zip')"
   ]
  },
  {
   "cell_type": "code",
   "execution_count": 4,
   "id": "10e77602",
   "metadata": {},
   "outputs": [],
   "source": [
    "def down(df):\n",
    "  for column, dtype in zip(df.columns, df.dtypes):\n",
    "    dtype = str(dtype)\n",
    "    # column_data = df[column]\n",
    "    if any([_ in dtype for _ in ('int', 'float')]):\n",
    "      column_min, column_max = df[column].min(), df[column].max()\n",
    "      if 'int' in dtype:\n",
    "        # if (column_min > np.iinfo(np.int8).min) and (column_max < np.iinfo(np.int8).max):\n",
    "        #   df[column] = df[column].astype(np.int8)\n",
    "        if (column_min > np.iinfo(np.int16).min) and (column_max < np.iinfo(np.int16).max):\n",
    "          df[column] = df[column].astype(np.int16)\n",
    "        elif (column_min > np.iinfo(np.int32).min) and (column_max < np.iinfo(np.int32).max):\n",
    "          df[column] = df[column].astype(np.int32)\n",
    "        else:\n",
    "          df[column] = df[column].astype(np.int64)\n",
    "\n",
    "      else:\n",
    "        # if (column_min > np.finfo(np.float16).min) and (column_max < np.finfo(np.float16).max):\n",
    "        #   df[column] = df[column].astype(np.float16)\n",
    "        if (column_min > np.finfo(np.float32).min) and (column_max < np.finfo(np.float32).max):\n",
    "          df[column] = df[column].astype(np.float32)\n",
    "        else:\n",
    "          df[column] = df[column].astype(np.float64)\n",
    "\n",
    "    # elif dtype == 'object':\n",
    "    #   df[column] = df[column].astype('category')\n",
    "\n",
    "  return df"
   ]
  },
  {
   "cell_type": "code",
   "execution_count": 5,
   "id": "0cf46f95",
   "metadata": {},
   "outputs": [
    {
     "data": {
      "text/plain": [
       "0"
      ]
     },
     "execution_count": 5,
     "metadata": {},
     "output_type": "execute_result"
    }
   ],
   "source": [
    "df = down(df)\n",
    "gc.collect()"
   ]
  },
  {
   "cell_type": "code",
   "execution_count": 6,
   "id": "5dfcbac0",
   "metadata": {},
   "outputs": [
    {
     "name": "stdout",
     "output_type": "stream",
     "text": [
      "<class 'pandas.core.frame.DataFrame'>\n",
      "RangeIndex: 13647309 entries, 0 to 13647308\n",
      "Data columns (total 48 columns):\n",
      " #   Column                 Dtype  \n",
      "---  ------                 -----  \n",
      " 0   fecha_dato             object \n",
      " 1   ncodpers               int32  \n",
      " 2   ind_empleado           object \n",
      " 3   pais_residencia        object \n",
      " 4   sexo                   object \n",
      " 5   age                    object \n",
      " 6   fecha_alta             object \n",
      " 7   ind_nuevo              float32\n",
      " 8   antiguedad             object \n",
      " 9   indrel                 float32\n",
      " 10  ult_fec_cli_1t         object \n",
      " 11  indrel_1mes            object \n",
      " 12  tiprel_1mes            object \n",
      " 13  indresi                object \n",
      " 14  indext                 object \n",
      " 15  conyuemp               object \n",
      " 16  canal_entrada          object \n",
      " 17  indfall                object \n",
      " 18  tipodom                float32\n",
      " 19  cod_prov               float32\n",
      " 20  nomprov                object \n",
      " 21  ind_actividad_cliente  float32\n",
      " 22  renta                  float32\n",
      " 23  segmento               object \n",
      " 24  ind_ahor_fin_ult1      int16  \n",
      " 25  ind_aval_fin_ult1      int16  \n",
      " 26  ind_cco_fin_ult1       int16  \n",
      " 27  ind_cder_fin_ult1      int16  \n",
      " 28  ind_cno_fin_ult1       int16  \n",
      " 29  ind_ctju_fin_ult1      int16  \n",
      " 30  ind_ctma_fin_ult1      int16  \n",
      " 31  ind_ctop_fin_ult1      int16  \n",
      " 32  ind_ctpp_fin_ult1      int16  \n",
      " 33  ind_deco_fin_ult1      int16  \n",
      " 34  ind_deme_fin_ult1      int16  \n",
      " 35  ind_dela_fin_ult1      int16  \n",
      " 36  ind_ecue_fin_ult1      int16  \n",
      " 37  ind_fond_fin_ult1      int16  \n",
      " 38  ind_hip_fin_ult1       int16  \n",
      " 39  ind_plan_fin_ult1      int16  \n",
      " 40  ind_pres_fin_ult1      int16  \n",
      " 41  ind_reca_fin_ult1      int16  \n",
      " 42  ind_tjcr_fin_ult1      int16  \n",
      " 43  ind_valo_fin_ult1      int16  \n",
      " 44  ind_viv_fin_ult1       int16  \n",
      " 45  ind_nomina_ult1        float32\n",
      " 46  ind_nom_pens_ult1      float32\n",
      " 47  ind_recibo_ult1        int16  \n",
      "dtypes: float32(8), int16(22), int32(1), object(17)\n",
      "memory usage: 2.7+ GB\n"
     ]
    }
   ],
   "source": [
    "df.info()"
   ]
  },
  {
   "cell_type": "code",
   "execution_count": 7,
   "id": "f65789e9",
   "metadata": {},
   "outputs": [
    {
     "data": {
      "text/html": [
       "<div>\n",
       "<style scoped>\n",
       "    .dataframe tbody tr th:only-of-type {\n",
       "        vertical-align: middle;\n",
       "    }\n",
       "\n",
       "    .dataframe tbody tr th {\n",
       "        vertical-align: top;\n",
       "    }\n",
       "\n",
       "    .dataframe thead th {\n",
       "        text-align: right;\n",
       "    }\n",
       "</style>\n",
       "<table border=\"1\" class=\"dataframe\">\n",
       "  <thead>\n",
       "    <tr style=\"text-align: right;\">\n",
       "      <th></th>\n",
       "      <th>ncodpers</th>\n",
       "      <th>ind_nuevo</th>\n",
       "      <th>indrel</th>\n",
       "      <th>tipodom</th>\n",
       "      <th>cod_prov</th>\n",
       "      <th>ind_actividad_cliente</th>\n",
       "      <th>renta</th>\n",
       "      <th>ind_ahor_fin_ult1</th>\n",
       "      <th>ind_aval_fin_ult1</th>\n",
       "      <th>ind_cco_fin_ult1</th>\n",
       "      <th>...</th>\n",
       "      <th>ind_hip_fin_ult1</th>\n",
       "      <th>ind_plan_fin_ult1</th>\n",
       "      <th>ind_pres_fin_ult1</th>\n",
       "      <th>ind_reca_fin_ult1</th>\n",
       "      <th>ind_tjcr_fin_ult1</th>\n",
       "      <th>ind_valo_fin_ult1</th>\n",
       "      <th>ind_viv_fin_ult1</th>\n",
       "      <th>ind_nomina_ult1</th>\n",
       "      <th>ind_nom_pens_ult1</th>\n",
       "      <th>ind_recibo_ult1</th>\n",
       "    </tr>\n",
       "  </thead>\n",
       "  <tbody>\n",
       "    <tr>\n",
       "      <th>count</th>\n",
       "      <td>1.364731e+07</td>\n",
       "      <td>1.361958e+07</td>\n",
       "      <td>1.361958e+07</td>\n",
       "      <td>13619574.0</td>\n",
       "      <td>1.355372e+07</td>\n",
       "      <td>1.361958e+07</td>\n",
       "      <td>1.085293e+07</td>\n",
       "      <td>1.364731e+07</td>\n",
       "      <td>1.364731e+07</td>\n",
       "      <td>1.364731e+07</td>\n",
       "      <td>...</td>\n",
       "      <td>1.364731e+07</td>\n",
       "      <td>1.364731e+07</td>\n",
       "      <td>1.364731e+07</td>\n",
       "      <td>1.364731e+07</td>\n",
       "      <td>1.364731e+07</td>\n",
       "      <td>1.364731e+07</td>\n",
       "      <td>1.364731e+07</td>\n",
       "      <td>1.363125e+07</td>\n",
       "      <td>1.363125e+07</td>\n",
       "      <td>1.364731e+07</td>\n",
       "    </tr>\n",
       "    <tr>\n",
       "      <th>mean</th>\n",
       "      <td>8.349042e+05</td>\n",
       "      <td>5.956184e-02</td>\n",
       "      <td>1.178399e+00</td>\n",
       "      <td>1.0</td>\n",
       "      <td>2.657145e+01</td>\n",
       "      <td>4.578106e-01</td>\n",
       "      <td>1.342542e+05</td>\n",
       "      <td>1.022912e-04</td>\n",
       "      <td>2.315475e-05</td>\n",
       "      <td>6.554837e-01</td>\n",
       "      <td>...</td>\n",
       "      <td>5.886582e-03</td>\n",
       "      <td>9.170965e-03</td>\n",
       "      <td>2.627404e-03</td>\n",
       "      <td>5.253636e-02</td>\n",
       "      <td>4.438868e-02</td>\n",
       "      <td>2.560761e-02</td>\n",
       "      <td>3.847718e-03</td>\n",
       "      <td>5.472434e-02</td>\n",
       "      <td>5.942854e-02</td>\n",
       "      <td>1.279162e-01</td>\n",
       "    </tr>\n",
       "    <tr>\n",
       "      <th>std</th>\n",
       "      <td>4.315650e+05</td>\n",
       "      <td>2.366733e-01</td>\n",
       "      <td>4.177469e+00</td>\n",
       "      <td>0.0</td>\n",
       "      <td>1.278402e+01</td>\n",
       "      <td>4.982169e-01</td>\n",
       "      <td>2.306202e+05</td>\n",
       "      <td>1.011340e-02</td>\n",
       "      <td>4.811883e-03</td>\n",
       "      <td>4.752103e-01</td>\n",
       "      <td>...</td>\n",
       "      <td>7.649791e-02</td>\n",
       "      <td>9.532502e-02</td>\n",
       "      <td>5.119083e-02</td>\n",
       "      <td>2.231060e-01</td>\n",
       "      <td>2.059571e-01</td>\n",
       "      <td>1.579616e-01</td>\n",
       "      <td>6.191053e-02</td>\n",
       "      <td>2.274414e-01</td>\n",
       "      <td>2.364250e-01</td>\n",
       "      <td>3.339965e-01</td>\n",
       "    </tr>\n",
       "    <tr>\n",
       "      <th>min</th>\n",
       "      <td>1.588900e+04</td>\n",
       "      <td>0.000000e+00</td>\n",
       "      <td>1.000000e+00</td>\n",
       "      <td>1.0</td>\n",
       "      <td>1.000000e+00</td>\n",
       "      <td>0.000000e+00</td>\n",
       "      <td>1.202730e+03</td>\n",
       "      <td>0.000000e+00</td>\n",
       "      <td>0.000000e+00</td>\n",
       "      <td>0.000000e+00</td>\n",
       "      <td>...</td>\n",
       "      <td>0.000000e+00</td>\n",
       "      <td>0.000000e+00</td>\n",
       "      <td>0.000000e+00</td>\n",
       "      <td>0.000000e+00</td>\n",
       "      <td>0.000000e+00</td>\n",
       "      <td>0.000000e+00</td>\n",
       "      <td>0.000000e+00</td>\n",
       "      <td>0.000000e+00</td>\n",
       "      <td>0.000000e+00</td>\n",
       "      <td>0.000000e+00</td>\n",
       "    </tr>\n",
       "    <tr>\n",
       "      <th>25%</th>\n",
       "      <td>4.528130e+05</td>\n",
       "      <td>0.000000e+00</td>\n",
       "      <td>1.000000e+00</td>\n",
       "      <td>1.0</td>\n",
       "      <td>1.500000e+01</td>\n",
       "      <td>0.000000e+00</td>\n",
       "      <td>6.871098e+04</td>\n",
       "      <td>0.000000e+00</td>\n",
       "      <td>0.000000e+00</td>\n",
       "      <td>0.000000e+00</td>\n",
       "      <td>...</td>\n",
       "      <td>0.000000e+00</td>\n",
       "      <td>0.000000e+00</td>\n",
       "      <td>0.000000e+00</td>\n",
       "      <td>0.000000e+00</td>\n",
       "      <td>0.000000e+00</td>\n",
       "      <td>0.000000e+00</td>\n",
       "      <td>0.000000e+00</td>\n",
       "      <td>0.000000e+00</td>\n",
       "      <td>0.000000e+00</td>\n",
       "      <td>0.000000e+00</td>\n",
       "    </tr>\n",
       "    <tr>\n",
       "      <th>50%</th>\n",
       "      <td>9.318930e+05</td>\n",
       "      <td>0.000000e+00</td>\n",
       "      <td>1.000000e+00</td>\n",
       "      <td>1.0</td>\n",
       "      <td>2.800000e+01</td>\n",
       "      <td>0.000000e+00</td>\n",
       "      <td>1.018500e+05</td>\n",
       "      <td>0.000000e+00</td>\n",
       "      <td>0.000000e+00</td>\n",
       "      <td>1.000000e+00</td>\n",
       "      <td>...</td>\n",
       "      <td>0.000000e+00</td>\n",
       "      <td>0.000000e+00</td>\n",
       "      <td>0.000000e+00</td>\n",
       "      <td>0.000000e+00</td>\n",
       "      <td>0.000000e+00</td>\n",
       "      <td>0.000000e+00</td>\n",
       "      <td>0.000000e+00</td>\n",
       "      <td>0.000000e+00</td>\n",
       "      <td>0.000000e+00</td>\n",
       "      <td>0.000000e+00</td>\n",
       "    </tr>\n",
       "    <tr>\n",
       "      <th>75%</th>\n",
       "      <td>1.199286e+06</td>\n",
       "      <td>0.000000e+00</td>\n",
       "      <td>1.000000e+00</td>\n",
       "      <td>1.0</td>\n",
       "      <td>3.500000e+01</td>\n",
       "      <td>1.000000e+00</td>\n",
       "      <td>1.559560e+05</td>\n",
       "      <td>0.000000e+00</td>\n",
       "      <td>0.000000e+00</td>\n",
       "      <td>1.000000e+00</td>\n",
       "      <td>...</td>\n",
       "      <td>0.000000e+00</td>\n",
       "      <td>0.000000e+00</td>\n",
       "      <td>0.000000e+00</td>\n",
       "      <td>0.000000e+00</td>\n",
       "      <td>0.000000e+00</td>\n",
       "      <td>0.000000e+00</td>\n",
       "      <td>0.000000e+00</td>\n",
       "      <td>0.000000e+00</td>\n",
       "      <td>0.000000e+00</td>\n",
       "      <td>0.000000e+00</td>\n",
       "    </tr>\n",
       "    <tr>\n",
       "      <th>max</th>\n",
       "      <td>1.553689e+06</td>\n",
       "      <td>1.000000e+00</td>\n",
       "      <td>9.900000e+01</td>\n",
       "      <td>1.0</td>\n",
       "      <td>5.200000e+01</td>\n",
       "      <td>1.000000e+00</td>\n",
       "      <td>2.889440e+07</td>\n",
       "      <td>1.000000e+00</td>\n",
       "      <td>1.000000e+00</td>\n",
       "      <td>1.000000e+00</td>\n",
       "      <td>...</td>\n",
       "      <td>1.000000e+00</td>\n",
       "      <td>1.000000e+00</td>\n",
       "      <td>1.000000e+00</td>\n",
       "      <td>1.000000e+00</td>\n",
       "      <td>1.000000e+00</td>\n",
       "      <td>1.000000e+00</td>\n",
       "      <td>1.000000e+00</td>\n",
       "      <td>1.000000e+00</td>\n",
       "      <td>1.000000e+00</td>\n",
       "      <td>1.000000e+00</td>\n",
       "    </tr>\n",
       "  </tbody>\n",
       "</table>\n",
       "<p>8 rows × 31 columns</p>\n",
       "</div>"
      ],
      "text/plain": [
       "           ncodpers     ind_nuevo        indrel     tipodom      cod_prov  \\\n",
       "count  1.364731e+07  1.361958e+07  1.361958e+07  13619574.0  1.355372e+07   \n",
       "mean   8.349042e+05  5.956184e-02  1.178399e+00         1.0  2.657145e+01   \n",
       "std    4.315650e+05  2.366733e-01  4.177469e+00         0.0  1.278402e+01   \n",
       "min    1.588900e+04  0.000000e+00  1.000000e+00         1.0  1.000000e+00   \n",
       "25%    4.528130e+05  0.000000e+00  1.000000e+00         1.0  1.500000e+01   \n",
       "50%    9.318930e+05  0.000000e+00  1.000000e+00         1.0  2.800000e+01   \n",
       "75%    1.199286e+06  0.000000e+00  1.000000e+00         1.0  3.500000e+01   \n",
       "max    1.553689e+06  1.000000e+00  9.900000e+01         1.0  5.200000e+01   \n",
       "\n",
       "       ind_actividad_cliente         renta  ind_ahor_fin_ult1  \\\n",
       "count           1.361958e+07  1.085293e+07       1.364731e+07   \n",
       "mean            4.578106e-01  1.342542e+05       1.022912e-04   \n",
       "std             4.982169e-01  2.306202e+05       1.011340e-02   \n",
       "min             0.000000e+00  1.202730e+03       0.000000e+00   \n",
       "25%             0.000000e+00  6.871098e+04       0.000000e+00   \n",
       "50%             0.000000e+00  1.018500e+05       0.000000e+00   \n",
       "75%             1.000000e+00  1.559560e+05       0.000000e+00   \n",
       "max             1.000000e+00  2.889440e+07       1.000000e+00   \n",
       "\n",
       "       ind_aval_fin_ult1  ind_cco_fin_ult1  ...  ind_hip_fin_ult1  \\\n",
       "count       1.364731e+07      1.364731e+07  ...      1.364731e+07   \n",
       "mean        2.315475e-05      6.554837e-01  ...      5.886582e-03   \n",
       "std         4.811883e-03      4.752103e-01  ...      7.649791e-02   \n",
       "min         0.000000e+00      0.000000e+00  ...      0.000000e+00   \n",
       "25%         0.000000e+00      0.000000e+00  ...      0.000000e+00   \n",
       "50%         0.000000e+00      1.000000e+00  ...      0.000000e+00   \n",
       "75%         0.000000e+00      1.000000e+00  ...      0.000000e+00   \n",
       "max         1.000000e+00      1.000000e+00  ...      1.000000e+00   \n",
       "\n",
       "       ind_plan_fin_ult1  ind_pres_fin_ult1  ind_reca_fin_ult1  \\\n",
       "count       1.364731e+07       1.364731e+07       1.364731e+07   \n",
       "mean        9.170965e-03       2.627404e-03       5.253636e-02   \n",
       "std         9.532502e-02       5.119083e-02       2.231060e-01   \n",
       "min         0.000000e+00       0.000000e+00       0.000000e+00   \n",
       "25%         0.000000e+00       0.000000e+00       0.000000e+00   \n",
       "50%         0.000000e+00       0.000000e+00       0.000000e+00   \n",
       "75%         0.000000e+00       0.000000e+00       0.000000e+00   \n",
       "max         1.000000e+00       1.000000e+00       1.000000e+00   \n",
       "\n",
       "       ind_tjcr_fin_ult1  ind_valo_fin_ult1  ind_viv_fin_ult1  \\\n",
       "count       1.364731e+07       1.364731e+07      1.364731e+07   \n",
       "mean        4.438868e-02       2.560761e-02      3.847718e-03   \n",
       "std         2.059571e-01       1.579616e-01      6.191053e-02   \n",
       "min         0.000000e+00       0.000000e+00      0.000000e+00   \n",
       "25%         0.000000e+00       0.000000e+00      0.000000e+00   \n",
       "50%         0.000000e+00       0.000000e+00      0.000000e+00   \n",
       "75%         0.000000e+00       0.000000e+00      0.000000e+00   \n",
       "max         1.000000e+00       1.000000e+00      1.000000e+00   \n",
       "\n",
       "       ind_nomina_ult1  ind_nom_pens_ult1  ind_recibo_ult1  \n",
       "count     1.363125e+07       1.363125e+07     1.364731e+07  \n",
       "mean      5.472434e-02       5.942854e-02     1.279162e-01  \n",
       "std       2.274414e-01       2.364250e-01     3.339965e-01  \n",
       "min       0.000000e+00       0.000000e+00     0.000000e+00  \n",
       "25%       0.000000e+00       0.000000e+00     0.000000e+00  \n",
       "50%       0.000000e+00       0.000000e+00     0.000000e+00  \n",
       "75%       0.000000e+00       0.000000e+00     0.000000e+00  \n",
       "max       1.000000e+00       1.000000e+00     1.000000e+00  \n",
       "\n",
       "[8 rows x 31 columns]"
      ]
     },
     "execution_count": 7,
     "metadata": {},
     "output_type": "execute_result"
    }
   ],
   "source": [
    "df.describe()"
   ]
  },
  {
   "cell_type": "markdown",
   "id": "1cf3a56d",
   "metadata": {},
   "source": [
    "### EDA"
   ]
  },
  {
   "cell_type": "code",
   "execution_count": 8,
   "id": "00b5ccdd",
   "metadata": {},
   "outputs": [
    {
     "data": {
      "text/plain": [
       "(13647309, 48)"
      ]
     },
     "execution_count": 8,
     "metadata": {},
     "output_type": "execute_result"
    }
   ],
   "source": [
    "df.shape"
   ]
  },
  {
   "cell_type": "code",
   "execution_count": 9,
   "id": "183bdca1",
   "metadata": {},
   "outputs": [
    {
     "data": {
      "text/plain": [
       "956645"
      ]
     },
     "execution_count": 9,
     "metadata": {},
     "output_type": "execute_result"
    }
   ],
   "source": [
    "# уникальные клиенты\n",
    "df['ncodpers'].nunique()"
   ]
  },
  {
   "cell_type": "code",
   "execution_count": 10,
   "id": "8b2b0454",
   "metadata": {},
   "outputs": [
    {
     "data": {
      "text/plain": [
       "ncodpers\n",
       "538031     17\n",
       "538018     17\n",
       "538021     17\n",
       "538023     17\n",
       "538024     17\n",
       "           ..\n",
       "1118592     1\n",
       "1121175     1\n",
       "1113829     1\n",
       "1113919     1\n",
       "1114695     1\n",
       "Name: count, Length: 956645, dtype: int64"
      ]
     },
     "execution_count": 10,
     "metadata": {},
     "output_type": "execute_result"
    }
   ],
   "source": [
    "df['ncodpers'].value_counts()"
   ]
  },
  {
   "cell_type": "code",
   "execution_count": 11,
   "id": "934df1e2",
   "metadata": {},
   "outputs": [
    {
     "data": {
      "text/plain": [
       "ind_empleado\n",
       "N    0.999369\n",
       "B    0.000262\n",
       "F    0.000185\n",
       "A    0.000183\n",
       "S    0.000001\n",
       "Name: proportion, dtype: float64"
      ]
     },
     "execution_count": 11,
     "metadata": {},
     "output_type": "execute_result"
    }
   ],
   "source": [
    "# соотношение клиент/не сотрудник\n",
    "df['ind_empleado'].value_counts(normalize=True)"
   ]
  },
  {
   "cell_type": "code",
   "execution_count": null,
   "id": "8ae74980",
   "metadata": {},
   "outputs": [
    {
     "data": {
      "text/plain": [
       "pais_residencia\n",
       "ES    9.951639e-01\n",
       "FR    3.789399e-04\n",
       "AR    3.550037e-04\n",
       "DE    3.395848e-04\n",
       "GB    3.381163e-04\n",
       "          ...     \n",
       "ZW    8.076610e-07\n",
       "DJ    8.076610e-07\n",
       "JM    8.076610e-07\n",
       "BM    4.405424e-07\n",
       "MT    1.468475e-07\n",
       "Name: proportion, Length: 118, dtype: float64"
      ]
     },
     "execution_count": 12,
     "metadata": {},
     "output_type": "execute_result"
    }
   ],
   "source": [
    "# резиденство - преимущественно ES\n",
    "df['pais_residencia'].value_counts(normalize=True)"
   ]
  },
  {
   "cell_type": "code",
   "execution_count": 13,
   "id": "50e12fda",
   "metadata": {},
   "outputs": [
    {
     "data": {
      "text/plain": [
       "pais_residencia\n",
       "1    949508\n",
       "0      7031\n",
       "2       106\n",
       "Name: count, dtype: int64"
      ]
     },
     "execution_count": 13,
     "metadata": {},
     "output_type": "execute_result"
    }
   ],
   "source": [
    "# изменение резидентства\n",
    "df.groupby('ncodpers')['pais_residencia'].nunique().value_counts()"
   ]
  },
  {
   "cell_type": "code",
   "execution_count": 14,
   "id": "41f6f4c7",
   "metadata": {},
   "outputs": [
    {
     "data": {
      "text/plain": [
       "sexo\n",
       "V    0.545119\n",
       "H    0.454881\n",
       "Name: proportion, dtype: float64"
      ]
     },
     "execution_count": 14,
     "metadata": {},
     "output_type": "execute_result"
    }
   ],
   "source": [
    "# пол\n",
    "df['sexo'].value_counts(normalize=True)"
   ]
  },
  {
   "cell_type": "code",
   "execution_count": 15,
   "id": "36cc7c98",
   "metadata": {},
   "outputs": [],
   "source": [
    "df['age'] = df['age'].apply(lambda x: x.strip() if isinstance(x, str) else x)\n",
    "df['age'] = df['age'].replace('NA', np.nan)\n",
    "df['age'] = df['age'].astype(float)\n",
    "\n",
    "df['fecha_alta'] = pd.to_datetime(df['fecha_alta'])\n",
    "\n",
    "\n",
    "df['antiguedad'] = df['antiguedad'].apply(lambda x: x.strip() if isinstance(x, str) else x)\n",
    "df['antiguedad'] = df['antiguedad'].replace('NA', np.nan)\n",
    "df['antiguedad'] = df['antiguedad'].astype(float)\n",
    "df.loc[df['antiguedad']==-999999, 'antiguedad'] = np.nan\n",
    "\n",
    "df['indrel_1mes'] = df['indrel_1mes'].replace('P', 99)\n",
    "df['indrel_1mes'] = df['indrel_1mes'].astype('float')"
   ]
  },
  {
   "cell_type": "code",
   "execution_count": 16,
   "id": "c17fa575",
   "metadata": {},
   "outputs": [
    {
     "data": {
      "image/png": "[encoded data removed]",
      "text/plain": [
       "<Figure size 640x480 with 1 Axes>"
      ]
     },
     "metadata": {},
     "output_type": "display_data"
    }
   ],
   "source": [
    "sns.histplot(data=df, x='age', bins=30)\n",
    "plt.title('Распределение age')\n",
    "plt.show()"
   ]
  },
  {
   "cell_type": "code",
   "execution_count": 17,
   "id": "421cdb15",
   "metadata": {},
   "outputs": [],
   "source": [
    "df['year_start'] = df['fecha_alta'].dt.year"
   ]
  },
  {
   "cell_type": "code",
   "execution_count": 18,
   "id": "8750f4d9",
   "metadata": {},
   "outputs": [
    {
     "data": {
      "image/png": "[encoded data removed]",
      "text/plain": [
       "<Figure size 640x480 with 1 Axes>"
      ]
     },
     "metadata": {},
     "output_type": "display_data"
    }
   ],
   "source": [
    "sns.histplot(data=df.drop_duplicates(subset='ncodpers', keep='last'), x='year_start', bins=30)\n",
    "plt.title('Распределение года начала сотрудничества')\n",
    "plt.show()"
   ]
  },
  {
   "cell_type": "code",
   "execution_count": 19,
   "id": "58df99a3",
   "metadata": {},
   "outputs": [
    {
     "data": {
      "image/png": "[encoded data removed]",
      "text/plain": [
       "<Figure size 640x480 with 1 Axes>"
      ]
     },
     "metadata": {},
     "output_type": "display_data"
    }
   ],
   "source": [
    "sns.histplot(data=df, x='antiguedad', bins=30)\n",
    "plt.title('Распределение стажа клиентов')\n",
    "plt.show()"
   ]
  },
  {
   "cell_type": "code",
   "execution_count": null,
   "id": "139b43bd",
   "metadata": {},
   "outputs": [
    {
     "data": {
      "text/plain": [
       "indrel_1mes\n",
       "1.0     0.999493\n",
       "3.0     0.000322\n",
       "2.0     0.000098\n",
       "99.0    0.000065\n",
       "4.0     0.000023\n",
       "Name: proportion, dtype: float64"
      ]
     },
     "execution_count": 20,
     "metadata": {},
     "output_type": "execute_result"
    }
   ],
   "source": [
    "# Тип клиента в начале месяца\n",
    "df['indrel_1mes'].value_counts(normalize=True)"
   ]
  },
  {
   "cell_type": "code",
   "execution_count": 21,
   "id": "85fdb214",
   "metadata": {},
   "outputs": [
    {
     "data": {
      "image/png": "[encoded data removed]",
      "text/plain": [
       "<Figure size 640x480 with 1 Axes>"
      ]
     },
     "metadata": {},
     "output_type": "display_data"
    }
   ],
   "source": [
    "# Тип клиента в начале месяца\n",
    "sns.countplot(data=df, x='tiprel_1mes')\n",
    "plt.title('Распределение типа клиента в начале месяца')\n",
    "plt.show()"
   ]
  },
  {
   "cell_type": "code",
   "execution_count": null,
   "id": "742a79f8",
   "metadata": {},
   "outputs": [
    {
     "data": {
      "text/plain": [
       "indresi\n",
       "S    0.995164\n",
       "N    0.004836\n",
       "Name: proportion, dtype: float64"
      ]
     },
     "execution_count": 22,
     "metadata": {},
     "output_type": "execute_result"
    }
   ],
   "source": [
    "df['indresi'].value_counts(normalize=True)"
   ]
  },
  {
   "cell_type": "code",
   "execution_count": 23,
   "id": "8faf11c6",
   "metadata": {},
   "outputs": [
    {
     "data": {
      "text/plain": [
       "indext\n",
       "N    0.952661\n",
       "S    0.047339\n",
       "Name: proportion, dtype: float64"
      ]
     },
     "execution_count": 23,
     "metadata": {},
     "output_type": "execute_result"
    }
   ],
   "source": [
    "df['indext'].value_counts(normalize=True)"
   ]
  },
  {
   "cell_type": "code",
   "execution_count": null,
   "id": "cccf8adc",
   "metadata": {},
   "outputs": [
    {
     "data": {
      "text/plain": [
       "conyuemp\n",
       "N    0.990597\n",
       "S    0.009403\n",
       "Name: proportion, dtype: float64"
      ]
     },
     "execution_count": 24,
     "metadata": {},
     "output_type": "execute_result"
    }
   ],
   "source": [
    "df['conyuemp'].value_counts(normalize=True)"
   ]
  },
  {
   "cell_type": "code",
   "execution_count": 25,
   "id": "2e08d418",
   "metadata": {},
   "outputs": [
    {
     "data": {
      "text/plain": [
       "162"
      ]
     },
     "execution_count": 25,
     "metadata": {},
     "output_type": "execute_result"
    }
   ],
   "source": [
    "df['canal_entrada'].nunique()"
   ]
  },
  {
   "cell_type": "code",
   "execution_count": 26,
   "id": "2a12206e",
   "metadata": {},
   "outputs": [
    {
     "data": {
      "image/png": "[encoded data removed]",
      "text/plain": [
       "<Figure size 640x480 with 1 Axes>"
      ]
     },
     "metadata": {},
     "output_type": "display_data"
    }
   ],
   "source": [
    "# канал\n",
    "sns.countplot(data=df, x='canal_entrada')\n",
    "plt.title('Распределение каналов')\n",
    "plt.show()"
   ]
  },
  {
   "cell_type": "code",
   "execution_count": null,
   "id": "432108e5",
   "metadata": {},
   "outputs": [
    {
     "data": {
      "text/plain": [
       "indfall\n",
       "N    0.997448\n",
       "S    0.002552\n",
       "Name: proportion, dtype: float64"
      ]
     },
     "execution_count": 27,
     "metadata": {},
     "output_type": "execute_result"
    }
   ],
   "source": [
    "# Индекс актуальности счёта \n",
    "df['indfall'].value_counts(normalize=True)"
   ]
  },
  {
   "cell_type": "code",
   "execution_count": null,
   "id": "b236bdb1",
   "metadata": {},
   "outputs": [
    {
     "data": {
      "text/plain": [
       "(tipodom\n",
       " 1.0    1.0\n",
       " Name: proportion, dtype: float64,\n",
       " 1)"
      ]
     },
     "execution_count": 28,
     "metadata": {},
     "output_type": "execute_result"
    }
   ],
   "source": [
    "# можно удалить\n",
    "df['tipodom'].value_counts(normalize=True), df['tipodom'].nunique()"
   ]
  },
  {
   "cell_type": "code",
   "execution_count": 29,
   "id": "80b65ea2",
   "metadata": {},
   "outputs": [
    {
     "data": {
      "text/plain": [
       "52"
      ]
     },
     "execution_count": 29,
     "metadata": {},
     "output_type": "execute_result"
    }
   ],
   "source": [
    "df['cod_prov'].nunique()"
   ]
  },
  {
   "cell_type": "code",
   "execution_count": 30,
   "id": "ea95816f",
   "metadata": {},
   "outputs": [
    {
     "data": {
      "text/plain": [
       "cod_prov\n",
       "28.0    0.325342\n",
       "8.0     0.094086\n",
       "46.0    0.050341\n",
       "41.0    0.044649\n",
       "15.0    0.031676\n",
       "30.0    0.029273\n",
       "29.0    0.027079\n",
       "50.0    0.025273\n",
       "3.0     0.023123\n",
       "11.0    0.021742\n",
       "36.0    0.020660\n",
       "33.0    0.019607\n",
       "47.0    0.017579\n",
       "35.0    0.017390\n",
       "6.0     0.014239\n",
       "48.0    0.013715\n",
       "45.0    0.013507\n",
       "18.0    0.013174\n",
       "37.0    0.012118\n",
       "39.0    0.011488\n",
       "14.0    0.010674\n",
       "10.0    0.009585\n",
       "7.0     0.009218\n",
       "21.0    0.009022\n",
       "13.0    0.008809\n",
       "2.0     0.008420\n",
       "12.0    0.007695\n",
       "43.0    0.007387\n",
       "9.0     0.007171\n",
       "17.0    0.006680\n",
       "31.0    0.006538\n",
       "26.0    0.006286\n",
       "27.0    0.006269\n",
       "32.0    0.006198\n",
       "24.0    0.006124\n",
       "25.0    0.005833\n",
       "20.0    0.005280\n",
       "38.0    0.005236\n",
       "19.0    0.004768\n",
       "23.0    0.004749\n",
       "4.0     0.004448\n",
       "16.0    0.004228\n",
       "49.0    0.003757\n",
       "34.0    0.003636\n",
       "40.0    0.003124\n",
       "22.0    0.002965\n",
       "5.0     0.002861\n",
       "1.0     0.002782\n",
       "44.0    0.001662\n",
       "42.0    0.001303\n",
       "52.0    0.000698\n",
       "51.0    0.000533\n",
       "Name: proportion, dtype: float64"
      ]
     },
     "execution_count": 30,
     "metadata": {},
     "output_type": "execute_result"
    }
   ],
   "source": [
    "df['cod_prov'].value_counts(normalize=True)"
   ]
  },
  {
   "cell_type": "code",
   "execution_count": 31,
   "id": "b30bc24c",
   "metadata": {},
   "outputs": [
    {
     "data": {
      "text/plain": [
       "ind_actividad_cliente\n",
       "0.0    0.542189\n",
       "1.0    0.457811\n",
       "Name: proportion, dtype: float64"
      ]
     },
     "execution_count": 31,
     "metadata": {},
     "output_type": "execute_result"
    }
   ],
   "source": [
    "# индекс активности\n",
    "df['ind_actividad_cliente'].value_counts(normalize=True)"
   ]
  },
  {
   "cell_type": "code",
   "execution_count": 32,
   "id": "8c8c8760",
   "metadata": {},
   "outputs": [
    {
     "data": {
      "text/plain": [
       "array([ 1.,  0., nan], dtype=float32)"
      ]
     },
     "execution_count": 32,
     "metadata": {},
     "output_type": "execute_result"
    }
   ],
   "source": [
    "df['ind_actividad_cliente'].unique()"
   ]
  },
  {
   "cell_type": "code",
   "execution_count": 33,
   "id": "16c123ea",
   "metadata": {},
   "outputs": [
    {
     "data": {
      "text/plain": [
       "ind_actividad_cliente\n",
       "1    870234\n",
       "2     79380\n",
       "0      7031\n",
       "Name: count, dtype: int64"
      ]
     },
     "execution_count": 33,
     "metadata": {},
     "output_type": "execute_result"
    }
   ],
   "source": [
    "# у кого менялась активность\n",
    "df.groupby('ncodpers')['ind_actividad_cliente'].nunique().value_counts()"
   ]
  },
  {
   "cell_type": "code",
   "execution_count": 34,
   "metadata": {},
   "outputs": [
    {
     "data": {
      "image/png": "[encoded data removed]",
      "text/plain": [
       "<Figure size 640x480 with 1 Axes>"
      ]
     },
     "metadata": {},
     "output_type": "display_data"
    }
   ],
   "source": [
    "sns.histplot(data=df[df['renta']<df['renta'].quantile(0.95)], x='renta', bins=50)\n",
    "plt.title('Распределение renta')\n",
    "plt.show()"
   ]
  },
  {
   "cell_type": "code",
   "execution_count": 35,
   "id": "19601852",
   "metadata": {},
   "outputs": [
    {
     "data": {
      "text/plain": [
       "segmento\n",
       "02 - PARTICULARES     0.591489\n",
       "03 - UNIVERSITARIO    0.366741\n",
       "01 - TOP              0.041770\n",
       "Name: proportion, dtype: float64"
      ]
     },
     "execution_count": 35,
     "metadata": {},
     "output_type": "execute_result"
    }
   ],
   "source": [
    "df['segmento'].value_counts(normalize=True)"
   ]
  },
  {
   "cell_type": "code",
   "execution_count": 36,
   "id": "87021834",
   "metadata": {},
   "outputs": [
    {
     "data": {
      "text/plain": [
       "array(['02 - PARTICULARES', '03 - UNIVERSITARIO', nan, '01 - TOP'],\n",
       "      dtype=object)"
      ]
     },
     "execution_count": 36,
     "metadata": {},
     "output_type": "execute_result"
    }
   ],
   "source": [
    "df['segmento'].unique()"
   ]
  },
  {
   "cell_type": "code",
   "execution_count": 37,
   "id": "aa21ea55",
   "metadata": {},
   "outputs": [],
   "source": [
    "# продукты\n",
    "cols = ['ind_ahor_fin_ult1', 'ind_aval_fin_ult1', 'ind_cco_fin_ult1',\n",
    "       'ind_cder_fin_ult1', 'ind_cno_fin_ult1', 'ind_ctju_fin_ult1',\n",
    "       'ind_ctma_fin_ult1', 'ind_ctop_fin_ult1', 'ind_ctpp_fin_ult1',\n",
    "       'ind_deco_fin_ult1', 'ind_deme_fin_ult1', 'ind_dela_fin_ult1',\n",
    "       'ind_ecue_fin_ult1', 'ind_fond_fin_ult1', 'ind_hip_fin_ult1',\n",
    "       'ind_plan_fin_ult1', 'ind_pres_fin_ult1', 'ind_reca_fin_ult1',\n",
    "       'ind_tjcr_fin_ult1', 'ind_valo_fin_ult1', 'ind_viv_fin_ult1',\n",
    "       'ind_nomina_ult1', 'ind_nom_pens_ult1', 'ind_recibo_ult1']"
   ]
  },
  {
   "cell_type": "code",
   "execution_count": 38,
   "id": "67bdea31",
   "metadata": {},
   "outputs": [
    {
     "data": {
      "image/png": "[encoded data removed]",
      "text/plain": [
       "<Figure size 640x480 with 1 Axes>"
      ]
     },
     "metadata": {},
     "output_type": "display_data"
    }
   ],
   "source": [
    "sns.histplot(data=df[cols].sum(axis=1), bins=50)\n",
    "plt.title('Распределение суммарного количества продуктов у одного клиента')\n",
    "plt.show()"
   ]
  },
  {
   "cell_type": "code",
   "execution_count": 39,
   "id": "71614a8e",
   "metadata": {},
   "outputs": [
    {
     "data": {
      "image/png": "[encoded data removed]",
      "text/plain": [
       "<Figure size 640x480 with 1 Axes>"
      ]
     },
     "metadata": {},
     "output_type": "display_data"
    }
   ],
   "source": [
    "temp = df.groupby('ncodpers')[cols].max().reset_index()\n",
    "temp['sum'] = temp[cols].sum(axis=1)\n",
    "\n",
    "sns.histplot(data=temp['sum'], bins=50)\n",
    "plt.title('Распределение количества уникальных продуктов у одного клиента')\n",
    "plt.show()"
   ]
  },
  {
   "cell_type": "code",
   "execution_count": 40,
   "id": "5eac1f68",
   "metadata": {},
   "outputs": [
    {
     "data": {
      "image/png": "[encoded data removed]",
      "text/plain": [
       "<Figure size 640x480 with 1 Axes>"
      ]
     },
     "metadata": {},
     "output_type": "display_data"
    }
   ],
   "source": [
    "# df[cols].sum()\n",
    "sns.barplot(data=df[cols].sum())\n",
    "plt.title('Популярность продуктов')\n",
    "plt.xticks(rotation=90)\n",
    "plt.show()"
   ]
  },
  {
   "cell_type": "code",
   "execution_count": 41,
   "id": "46a42c11",
   "metadata": {},
   "outputs": [],
   "source": [
    "df['fecha_dato'] = pd.to_datetime(df['fecha_dato'])\n",
    "max_date = df['fecha_dato'].max()\n",
    "temp_last = df.groupby('ncodpers').agg(last_date = ('fecha_dato', 'max')).reset_index()\n",
    "temp_last['days_from_last_date'] = (max_date - temp_last['last_date']).dt.days"
   ]
  },
  {
   "cell_type": "code",
   "execution_count": 42,
   "id": "e583d1f4",
   "metadata": {},
   "outputs": [
    {
     "data": {
      "image/png": "[encoded data removed]",
      "text/plain": [
       "<Figure size 640x480 with 1 Axes>"
      ]
     },
     "metadata": {},
     "output_type": "display_data"
    }
   ],
   "source": [
    "sns.histplot(data=temp_last['days_from_last_date'], bins=50)\n",
    "plt.title('Сколько дней прошло с последнего обновления данных клиента')\n",
    "plt.show()"
   ]
  },
  {
   "cell_type": "code",
   "execution_count": 43,
   "id": "c53a11c1",
   "metadata": {},
   "outputs": [
    {
     "data": {
      "text/html": [
       "<div>\n",
       "<style scoped>\n",
       "    .dataframe tbody tr th:only-of-type {\n",
       "        vertical-align: middle;\n",
       "    }\n",
       "\n",
       "    .dataframe tbody tr th {\n",
       "        vertical-align: top;\n",
       "    }\n",
       "\n",
       "    .dataframe thead th {\n",
       "        text-align: right;\n",
       "    }\n",
       "</style>\n",
       "<table border=\"1\" class=\"dataframe\">\n",
       "  <thead>\n",
       "    <tr style=\"text-align: right;\">\n",
       "      <th></th>\n",
       "      <th>fecha_dato</th>\n",
       "      <th>ncodpers</th>\n",
       "      <th>ind_empleado</th>\n",
       "      <th>pais_residencia</th>\n",
       "      <th>sexo</th>\n",
       "      <th>age</th>\n",
       "      <th>fecha_alta</th>\n",
       "      <th>ind_nuevo</th>\n",
       "      <th>antiguedad</th>\n",
       "      <th>indrel</th>\n",
       "      <th>...</th>\n",
       "      <th>ind_plan_fin_ult1</th>\n",
       "      <th>ind_pres_fin_ult1</th>\n",
       "      <th>ind_reca_fin_ult1</th>\n",
       "      <th>ind_tjcr_fin_ult1</th>\n",
       "      <th>ind_valo_fin_ult1</th>\n",
       "      <th>ind_viv_fin_ult1</th>\n",
       "      <th>ind_nomina_ult1</th>\n",
       "      <th>ind_nom_pens_ult1</th>\n",
       "      <th>ind_recibo_ult1</th>\n",
       "      <th>year_start</th>\n",
       "    </tr>\n",
       "  </thead>\n",
       "  <tbody>\n",
       "    <tr>\n",
       "      <th>0</th>\n",
       "      <td>2015-01-28</td>\n",
       "      <td>1375586</td>\n",
       "      <td>N</td>\n",
       "      <td>ES</td>\n",
       "      <td>H</td>\n",
       "      <td>35.0</td>\n",
       "      <td>2015-01-12</td>\n",
       "      <td>0.0</td>\n",
       "      <td>6.0</td>\n",
       "      <td>1.0</td>\n",
       "      <td>...</td>\n",
       "      <td>0</td>\n",
       "      <td>0</td>\n",
       "      <td>0</td>\n",
       "      <td>0</td>\n",
       "      <td>0</td>\n",
       "      <td>0</td>\n",
       "      <td>0.0</td>\n",
       "      <td>0.0</td>\n",
       "      <td>0</td>\n",
       "      <td>2015.0</td>\n",
       "    </tr>\n",
       "    <tr>\n",
       "      <th>1</th>\n",
       "      <td>2015-01-28</td>\n",
       "      <td>1050611</td>\n",
       "      <td>N</td>\n",
       "      <td>ES</td>\n",
       "      <td>V</td>\n",
       "      <td>23.0</td>\n",
       "      <td>2012-08-10</td>\n",
       "      <td>0.0</td>\n",
       "      <td>35.0</td>\n",
       "      <td>1.0</td>\n",
       "      <td>...</td>\n",
       "      <td>0</td>\n",
       "      <td>0</td>\n",
       "      <td>0</td>\n",
       "      <td>0</td>\n",
       "      <td>0</td>\n",
       "      <td>0</td>\n",
       "      <td>0.0</td>\n",
       "      <td>0.0</td>\n",
       "      <td>0</td>\n",
       "      <td>2012.0</td>\n",
       "    </tr>\n",
       "    <tr>\n",
       "      <th>2</th>\n",
       "      <td>2015-01-28</td>\n",
       "      <td>1050612</td>\n",
       "      <td>N</td>\n",
       "      <td>ES</td>\n",
       "      <td>V</td>\n",
       "      <td>23.0</td>\n",
       "      <td>2012-08-10</td>\n",
       "      <td>0.0</td>\n",
       "      <td>35.0</td>\n",
       "      <td>1.0</td>\n",
       "      <td>...</td>\n",
       "      <td>0</td>\n",
       "      <td>0</td>\n",
       "      <td>0</td>\n",
       "      <td>0</td>\n",
       "      <td>0</td>\n",
       "      <td>0</td>\n",
       "      <td>0.0</td>\n",
       "      <td>0.0</td>\n",
       "      <td>0</td>\n",
       "      <td>2012.0</td>\n",
       "    </tr>\n",
       "    <tr>\n",
       "      <th>3</th>\n",
       "      <td>2015-01-28</td>\n",
       "      <td>1050613</td>\n",
       "      <td>N</td>\n",
       "      <td>ES</td>\n",
       "      <td>H</td>\n",
       "      <td>22.0</td>\n",
       "      <td>2012-08-10</td>\n",
       "      <td>0.0</td>\n",
       "      <td>35.0</td>\n",
       "      <td>1.0</td>\n",
       "      <td>...</td>\n",
       "      <td>0</td>\n",
       "      <td>0</td>\n",
       "      <td>0</td>\n",
       "      <td>0</td>\n",
       "      <td>0</td>\n",
       "      <td>0</td>\n",
       "      <td>0.0</td>\n",
       "      <td>0.0</td>\n",
       "      <td>0</td>\n",
       "      <td>2012.0</td>\n",
       "    </tr>\n",
       "    <tr>\n",
       "      <th>4</th>\n",
       "      <td>2015-01-28</td>\n",
       "      <td>1050614</td>\n",
       "      <td>N</td>\n",
       "      <td>ES</td>\n",
       "      <td>V</td>\n",
       "      <td>23.0</td>\n",
       "      <td>2012-08-10</td>\n",
       "      <td>0.0</td>\n",
       "      <td>35.0</td>\n",
       "      <td>1.0</td>\n",
       "      <td>...</td>\n",
       "      <td>0</td>\n",
       "      <td>0</td>\n",
       "      <td>0</td>\n",
       "      <td>0</td>\n",
       "      <td>0</td>\n",
       "      <td>0</td>\n",
       "      <td>0.0</td>\n",
       "      <td>0.0</td>\n",
       "      <td>0</td>\n",
       "      <td>2012.0</td>\n",
       "    </tr>\n",
       "  </tbody>\n",
       "</table>\n",
       "<p>5 rows × 49 columns</p>\n",
       "</div>"
      ],
      "text/plain": [
       "  fecha_dato  ncodpers ind_empleado pais_residencia sexo   age fecha_alta  \\\n",
       "0 2015-01-28   1375586            N              ES    H  35.0 2015-01-12   \n",
       "1 2015-01-28   1050611            N              ES    V  23.0 2012-08-10   \n",
       "2 2015-01-28   1050612            N              ES    V  23.0 2012-08-10   \n",
       "3 2015-01-28   1050613            N              ES    H  22.0 2012-08-10   \n",
       "4 2015-01-28   1050614            N              ES    V  23.0 2012-08-10   \n",
       "\n",
       "   ind_nuevo  antiguedad  indrel  ... ind_plan_fin_ult1  ind_pres_fin_ult1  \\\n",
       "0        0.0         6.0     1.0  ...                 0                  0   \n",
       "1        0.0        35.0     1.0  ...                 0                  0   \n",
       "2        0.0        35.0     1.0  ...                 0                  0   \n",
       "3        0.0        35.0     1.0  ...                 0                  0   \n",
       "4        0.0        35.0     1.0  ...                 0                  0   \n",
       "\n",
       "  ind_reca_fin_ult1 ind_tjcr_fin_ult1 ind_valo_fin_ult1 ind_viv_fin_ult1  \\\n",
       "0                 0                 0                 0                0   \n",
       "1                 0                 0                 0                0   \n",
       "2                 0                 0                 0                0   \n",
       "3                 0                 0                 0                0   \n",
       "4                 0                 0                 0                0   \n",
       "\n",
       "  ind_nomina_ult1 ind_nom_pens_ult1  ind_recibo_ult1  year_start  \n",
       "0             0.0               0.0                0      2015.0  \n",
       "1             0.0               0.0                0      2012.0  \n",
       "2             0.0               0.0                0      2012.0  \n",
       "3             0.0               0.0                0      2012.0  \n",
       "4             0.0               0.0                0      2012.0  \n",
       "\n",
       "[5 rows x 49 columns]"
      ]
     },
     "execution_count": 43,
     "metadata": {},
     "output_type": "execute_result"
    }
   ],
   "source": [
    "df.head()"
   ]
  },
  {
   "cell_type": "code",
   "execution_count": null,
   "id": "39c1d082",
   "metadata": {},
   "outputs": [],
   "source": [
    "df['month'] = df['fecha_dato'].dt.to_period('M')\n"
   ]
  },
  {
   "cell_type": "code",
   "execution_count": 45,
   "id": "1ba908e9",
   "metadata": {},
   "outputs": [
    {
     "data": {
      "text/plain": [
       "ncodpers  month  \n",
       "1553664   2016-05    1\n",
       "1553665   2016-05    1\n",
       "1553667   2016-05    1\n",
       "1553668   2016-05    1\n",
       "1553669   2016-05    1\n",
       "                    ..\n",
       "1553686   2016-05    1\n",
       "1553687   2016-05    1\n",
       "1553688   2016-05    1\n",
       "1553689   2016-05    1\n",
       "15889     2015-01    1\n",
       "Name: month, Length: 13647309, dtype: int64"
      ]
     },
     "execution_count": 45,
     "metadata": {},
     "output_type": "execute_result"
    }
   ],
   "source": [
    "# один продукт в одном месяце\n",
    "df.groupby(['ncodpers', 'month'])['month'].count().sort_values()"
   ]
  },
  {
   "cell_type": "code",
   "execution_count": 46,
   "id": "29d0862b",
   "metadata": {},
   "outputs": [
    {
     "data": {
      "text/plain": [
       "24"
      ]
     },
     "execution_count": 46,
     "metadata": {},
     "output_type": "execute_result"
    }
   ],
   "source": [
    "len(cols)"
   ]
  },
  {
   "cell_type": "code",
   "execution_count": 47,
   "id": "484edacf",
   "metadata": {},
   "outputs": [],
   "source": [
    "df['sum_prods'] = df[cols].sum(axis=1)"
   ]
  },
  {
   "cell_type": "code",
   "execution_count": 48,
   "id": "7192852d",
   "metadata": {},
   "outputs": [],
   "source": [
    "df['diff'] = df.groupby('ncodpers')['sum_prods'].shift()\n",
    "df['diff'] = df['sum_prods'] - df['diff']"
   ]
  },
  {
   "cell_type": "code",
   "execution_count": 49,
   "id": "a03517cd",
   "metadata": {},
   "outputs": [
    {
     "data": {
      "text/plain": [
       "diff\n",
       " 0.0    9.408842e-01\n",
       " 1.0    2.396912e-02\n",
       "-1.0    2.292323e-02\n",
       " 2.0    5.580165e-03\n",
       "-2.0    5.230617e-03\n",
       " 3.0    7.429083e-04\n",
       "-3.0    5.760928e-04\n",
       " 4.0    5.200674e-05\n",
       "-4.0    3.443476e-05\n",
       "-5.0    3.703510e-06\n",
       " 5.0    2.836731e-06\n",
       "-6.0    3.939904e-07\n",
       " 6.0    2.363943e-07\n",
       "-8.0    7.879808e-08\n",
       "Name: proportion, dtype: float64"
      ]
     },
     "execution_count": 49,
     "metadata": {},
     "output_type": "execute_result"
    }
   ],
   "source": [
    "df['diff'].value_counts(normalize=True)"
   ]
  },
  {
   "cell_type": "code",
   "execution_count": 50,
   "id": "eb0e19ed",
   "metadata": {},
   "outputs": [
    {
     "data": {
      "text/plain": [
       "0.9254545860962069"
      ]
     },
     "execution_count": 50,
     "metadata": {},
     "output_type": "execute_result"
    }
   ],
   "source": [
    "df_long = df.melt(\n",
    "    id_vars=['ncodpers', 'fecha_dato'],\n",
    "    value_vars=cols,\n",
    "    var_name='product_name',\n",
    "    value_name='is_connected'\n",
    ")\n",
    "df_long = df_long[df_long['is_connected']==1]\n",
    "df_long['pred'] = df_long.groupby('ncodpers')['product_name'].shift()\n",
    "df_long[df_long['product_name'] == df_long['pred']].shape[0]/df_long.shape[0]"
   ]
  },
  {
   "cell_type": "markdown",
   "id": "65bf84de",
   "metadata": {},
   "source": [
    "### Вывод\n",
    "похоже большинство просто продлевает ранее приобретенную услугу"
   ]
  },
  {
   "cell_type": "code",
   "execution_count": 55,
   "id": "aebcff98",
   "metadata": {},
   "outputs": [],
   "source": [
    "temp = df_long.groupby(['ncodpers', 'fecha_dato']).agg(product_name = ('product_name', 'count')).reset_index()"
   ]
  },
  {
   "cell_type": "code",
   "execution_count": 60,
   "id": "b141ff40",
   "metadata": {},
   "outputs": [
    {
     "data": {
      "text/html": [
       "<div>\n",
       "<style scoped>\n",
       "    .dataframe tbody tr th:only-of-type {\n",
       "        vertical-align: middle;\n",
       "    }\n",
       "\n",
       "    .dataframe tbody tr th {\n",
       "        vertical-align: top;\n",
       "    }\n",
       "\n",
       "    .dataframe thead th {\n",
       "        text-align: right;\n",
       "    }\n",
       "</style>\n",
       "<table border=\"1\" class=\"dataframe\">\n",
       "  <thead>\n",
       "    <tr style=\"text-align: right;\">\n",
       "      <th></th>\n",
       "      <th>ncodpers</th>\n",
       "      <th>fecha_dato</th>\n",
       "      <th>product_name</th>\n",
       "    </tr>\n",
       "  </thead>\n",
       "  <tbody>\n",
       "    <tr>\n",
       "      <th>7047967</th>\n",
       "      <td>1075135</td>\n",
       "      <td>2015-05-28</td>\n",
       "      <td>1</td>\n",
       "    </tr>\n",
       "    <tr>\n",
       "      <th>7047958</th>\n",
       "      <td>1075132</td>\n",
       "      <td>2016-01-28</td>\n",
       "      <td>1</td>\n",
       "    </tr>\n",
       "    <tr>\n",
       "      <th>7047959</th>\n",
       "      <td>1075132</td>\n",
       "      <td>2016-02-28</td>\n",
       "      <td>1</td>\n",
       "    </tr>\n",
       "    <tr>\n",
       "      <th>7047960</th>\n",
       "      <td>1075132</td>\n",
       "      <td>2016-03-28</td>\n",
       "      <td>1</td>\n",
       "    </tr>\n",
       "    <tr>\n",
       "      <th>7047961</th>\n",
       "      <td>1075132</td>\n",
       "      <td>2016-04-28</td>\n",
       "      <td>1</td>\n",
       "    </tr>\n",
       "    <tr>\n",
       "      <th>...</th>\n",
       "      <td>...</td>\n",
       "      <td>...</td>\n",
       "      <td>...</td>\n",
       "    </tr>\n",
       "    <tr>\n",
       "      <th>648886</th>\n",
       "      <td>121159</td>\n",
       "      <td>2015-06-28</td>\n",
       "      <td>15</td>\n",
       "    </tr>\n",
       "    <tr>\n",
       "      <th>648887</th>\n",
       "      <td>121159</td>\n",
       "      <td>2015-07-28</td>\n",
       "      <td>15</td>\n",
       "    </tr>\n",
       "    <tr>\n",
       "      <th>648888</th>\n",
       "      <td>121159</td>\n",
       "      <td>2015-08-28</td>\n",
       "      <td>15</td>\n",
       "    </tr>\n",
       "    <tr>\n",
       "      <th>648897</th>\n",
       "      <td>121159</td>\n",
       "      <td>2016-05-28</td>\n",
       "      <td>15</td>\n",
       "    </tr>\n",
       "    <tr>\n",
       "      <th>648889</th>\n",
       "      <td>121159</td>\n",
       "      <td>2015-09-28</td>\n",
       "      <td>15</td>\n",
       "    </tr>\n",
       "  </tbody>\n",
       "</table>\n",
       "<p>11091070 rows × 3 columns</p>\n",
       "</div>"
      ],
      "text/plain": [
       "         ncodpers fecha_dato  product_name\n",
       "7047967   1075135 2015-05-28             1\n",
       "7047958   1075132 2016-01-28             1\n",
       "7047959   1075132 2016-02-28             1\n",
       "7047960   1075132 2016-03-28             1\n",
       "7047961   1075132 2016-04-28             1\n",
       "...           ...        ...           ...\n",
       "648886     121159 2015-06-28            15\n",
       "648887     121159 2015-07-28            15\n",
       "648888     121159 2015-08-28            15\n",
       "648897     121159 2016-05-28            15\n",
       "648889     121159 2015-09-28            15\n",
       "\n",
       "[11091070 rows x 3 columns]"
      ]
     },
     "execution_count": 60,
     "metadata": {},
     "output_type": "execute_result"
    }
   ],
   "source": [
    "temp.sort_values('product_name')"
   ]
  },
  {
   "cell_type": "code",
   "execution_count": 61,
   "id": "31b338f3",
   "metadata": {},
   "outputs": [
    {
     "data": {
      "text/html": [
       "<div>\n",
       "<style scoped>\n",
       "    .dataframe tbody tr th:only-of-type {\n",
       "        vertical-align: middle;\n",
       "    }\n",
       "\n",
       "    .dataframe tbody tr th {\n",
       "        vertical-align: top;\n",
       "    }\n",
       "\n",
       "    .dataframe thead th {\n",
       "        text-align: right;\n",
       "    }\n",
       "</style>\n",
       "<table border=\"1\" class=\"dataframe\">\n",
       "  <thead>\n",
       "    <tr style=\"text-align: right;\">\n",
       "      <th></th>\n",
       "      <th>ncodpers</th>\n",
       "      <th>fecha_dato</th>\n",
       "      <th>product_name</th>\n",
       "      <th>is_connected</th>\n",
       "      <th>pred</th>\n",
       "    </tr>\n",
       "  </thead>\n",
       "  <tbody>\n",
       "    <tr>\n",
       "      <th>27750020</th>\n",
       "      <td>121159</td>\n",
       "      <td>2015-01-28</td>\n",
       "      <td>ind_cco_fin_ult1</td>\n",
       "      <td>1.0</td>\n",
       "      <td>NaN</td>\n",
       "    </tr>\n",
       "    <tr>\n",
       "      <th>28092434</th>\n",
       "      <td>121159</td>\n",
       "      <td>2015-02-28</td>\n",
       "      <td>ind_cco_fin_ult1</td>\n",
       "      <td>1.0</td>\n",
       "      <td>ind_cco_fin_ult1</td>\n",
       "    </tr>\n",
       "    <tr>\n",
       "      <th>28773535</th>\n",
       "      <td>121159</td>\n",
       "      <td>2015-03-28</td>\n",
       "      <td>ind_cco_fin_ult1</td>\n",
       "      <td>1.0</td>\n",
       "      <td>ind_cco_fin_ult1</td>\n",
       "    </tr>\n",
       "    <tr>\n",
       "      <th>29348963</th>\n",
       "      <td>121159</td>\n",
       "      <td>2015-04-28</td>\n",
       "      <td>ind_cco_fin_ult1</td>\n",
       "      <td>1.0</td>\n",
       "      <td>ind_cco_fin_ult1</td>\n",
       "    </tr>\n",
       "    <tr>\n",
       "      <th>30266749</th>\n",
       "      <td>121159</td>\n",
       "      <td>2015-05-28</td>\n",
       "      <td>ind_cco_fin_ult1</td>\n",
       "      <td>1.0</td>\n",
       "      <td>ind_cco_fin_ult1</td>\n",
       "    </tr>\n",
       "    <tr>\n",
       "      <th>...</th>\n",
       "      <td>...</td>\n",
       "      <td>...</td>\n",
       "      <td>...</td>\n",
       "      <td>...</td>\n",
       "      <td>...</td>\n",
       "    </tr>\n",
       "    <tr>\n",
       "      <th>323021730</th>\n",
       "      <td>121159</td>\n",
       "      <td>2016-01-28</td>\n",
       "      <td>ind_recibo_ult1</td>\n",
       "      <td>1.0</td>\n",
       "      <td>ind_recibo_ult1</td>\n",
       "    </tr>\n",
       "    <tr>\n",
       "      <th>324264481</th>\n",
       "      <td>121159</td>\n",
       "      <td>2016-02-28</td>\n",
       "      <td>ind_recibo_ult1</td>\n",
       "      <td>1.0</td>\n",
       "      <td>ind_recibo_ult1</td>\n",
       "    </tr>\n",
       "    <tr>\n",
       "      <th>325082852</th>\n",
       "      <td>121159</td>\n",
       "      <td>2016-03-28</td>\n",
       "      <td>ind_recibo_ult1</td>\n",
       "      <td>1.0</td>\n",
       "      <td>ind_recibo_ult1</td>\n",
       "    </tr>\n",
       "    <tr>\n",
       "      <th>325931278</th>\n",
       "      <td>121159</td>\n",
       "      <td>2016-04-28</td>\n",
       "      <td>ind_recibo_ult1</td>\n",
       "      <td>1.0</td>\n",
       "      <td>ind_recibo_ult1</td>\n",
       "    </tr>\n",
       "    <tr>\n",
       "      <th>326938205</th>\n",
       "      <td>121159</td>\n",
       "      <td>2016-05-28</td>\n",
       "      <td>ind_recibo_ult1</td>\n",
       "      <td>1.0</td>\n",
       "      <td>ind_recibo_ult1</td>\n",
       "    </tr>\n",
       "  </tbody>\n",
       "</table>\n",
       "<p>242 rows × 5 columns</p>\n",
       "</div>"
      ],
      "text/plain": [
       "           ncodpers fecha_dato      product_name  is_connected  \\\n",
       "27750020     121159 2015-01-28  ind_cco_fin_ult1           1.0   \n",
       "28092434     121159 2015-02-28  ind_cco_fin_ult1           1.0   \n",
       "28773535     121159 2015-03-28  ind_cco_fin_ult1           1.0   \n",
       "29348963     121159 2015-04-28  ind_cco_fin_ult1           1.0   \n",
       "30266749     121159 2015-05-28  ind_cco_fin_ult1           1.0   \n",
       "...             ...        ...               ...           ...   \n",
       "323021730    121159 2016-01-28   ind_recibo_ult1           1.0   \n",
       "324264481    121159 2016-02-28   ind_recibo_ult1           1.0   \n",
       "325082852    121159 2016-03-28   ind_recibo_ult1           1.0   \n",
       "325931278    121159 2016-04-28   ind_recibo_ult1           1.0   \n",
       "326938205    121159 2016-05-28   ind_recibo_ult1           1.0   \n",
       "\n",
       "                       pred  \n",
       "27750020                NaN  \n",
       "28092434   ind_cco_fin_ult1  \n",
       "28773535   ind_cco_fin_ult1  \n",
       "29348963   ind_cco_fin_ult1  \n",
       "30266749   ind_cco_fin_ult1  \n",
       "...                     ...  \n",
       "323021730   ind_recibo_ult1  \n",
       "324264481   ind_recibo_ult1  \n",
       "325082852   ind_recibo_ult1  \n",
       "325931278   ind_recibo_ult1  \n",
       "326938205   ind_recibo_ult1  \n",
       "\n",
       "[242 rows x 5 columns]"
      ]
     },
     "execution_count": 61,
     "metadata": {},
     "output_type": "execute_result"
    }
   ],
   "source": [
    "df_long[df_long['ncodpers']==121159]"
   ]
  },
  {
   "cell_type": "code",
   "execution_count": null,
   "id": "030c0aba",
   "metadata": {},
   "outputs": [],
   "source": []
  }
 ],
 "metadata": {
  "kernelspec": {
   "display_name": "final_kernel",
   "language": "python",
   "name": "final_kernel"
  },
  "language_info": {
   "codemirror_mode": {
    "name": "ipython",
    "version": 3
   },
   "file_extension": ".py",
   "mimetype": "text/x-python",
   "name": "python",
   "nbconvert_exporter": "python",
   "pygments_lexer": "ipython3",
   "version": "3.10.12"
  }
 },
 "nbformat": 4,
 "nbformat_minor": 5
}
